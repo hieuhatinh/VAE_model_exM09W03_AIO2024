{
  "nbformat": 4,
  "nbformat_minor": 0,
  "metadata": {
    "colab": {
      "provenance": [],
      "gpuType": "T4"
    },
    "kernelspec": {
      "name": "python3",
      "display_name": "Python 3"
    },
    "language_info": {
      "name": "python"
    },
    "accelerator": "GPU"
  },
  "cells": [
    {
      "cell_type": "code",
      "execution_count": 1,
      "metadata": {
        "id": "8uan1HQ3LI0e"
      },
      "outputs": [],
      "source": [
        "import torch\n",
        "import numpy as np\n",
        "import torch.nn as nn\n",
        "import torch.optim as optim\n",
        "import matplotlib.pyplot as plt\n",
        "import torch.nn.functional as F\n",
        "\n",
        "from tqdm import tqdm\n",
        "from torchsummary import summary\n",
        "from torchvision import transforms, datasets\n",
        "from torch.utils.data import DataLoader, random_split"
      ]
    },
    {
      "cell_type": "code",
      "source": [
        "device = torch.device('cuda' if torch.cuda.is_available() else 'cpu')\n",
        "print('Using device: ', device)"
      ],
      "metadata": {
        "colab": {
          "base_uri": "https://localhost:8080/"
        },
        "id": "Ps_w0W9s5_Wi",
        "outputId": "483c0879-fa38-4d9d-dc6b-e4c0747717ac"
      },
      "execution_count": 2,
      "outputs": [
        {
          "output_type": "stream",
          "name": "stdout",
          "text": [
            "Using device:  cuda\n"
          ]
        }
      ]
    },
    {
      "cell_type": "markdown",
      "source": [
        "### Khởi tạo hyperparameters"
      ],
      "metadata": {
        "id": "wP27rpk9MkQe"
      }
    },
    {
      "cell_type": "code",
      "source": [
        "# Hyperparameters\n",
        "batch_size = 256\n",
        "img_size = 28 # original image size is 28x28\n",
        "channels = 1 # grayscale image\n",
        "latent_dim = 2\n",
        "num_epochs = 500 # training epochs\n",
        "\n",
        "transform = transforms.Compose([\n",
        " transforms.Resize((img_size, img_size)),\n",
        " transforms.ToTensor(),\n",
        "])\n",
        "\n",
        "dataset = datasets.MNIST(\n",
        "    root=\"./data\", # Data storage directory\n",
        "    train=True,\n",
        "    transform=transform,\n",
        "    download=True,\n",
        ")"
      ],
      "metadata": {
        "colab": {
          "base_uri": "https://localhost:8080/"
        },
        "id": "pX9fy6iD5__k",
        "outputId": "12e20ae8-8d2b-4d90-99e3-1d92a3c337a9"
      },
      "execution_count": 3,
      "outputs": [
        {
          "output_type": "stream",
          "name": "stderr",
          "text": [
            "100%|██████████| 9.91M/9.91M [00:11<00:00, 888kB/s] \n",
            "100%|██████████| 28.9k/28.9k [00:00<00:00, 63.8kB/s]\n",
            "100%|██████████| 1.65M/1.65M [00:06<00:00, 241kB/s]\n",
            "100%|██████████| 4.54k/4.54k [00:00<00:00, 6.59MB/s]\n"
          ]
        }
      ]
    },
    {
      "cell_type": "markdown",
      "source": [
        "### Chia tập train, val với tỉ lệ 8:2\n",
        "\n"
      ],
      "metadata": {
        "id": "ihHg1xBr67GC"
      }
    },
    {
      "cell_type": "code",
      "source": [
        "train_size = int(0.8 * len(dataset))\n",
        "val_size = len(dataset) - train_size\n",
        "train_dataset, val_dataset = random_split(dataset, [train_size, val_size])\n",
        "print(f\"Training samples: {len(train_dataset)}, Validation samples: {len(val_dataset)}\")\n",
        "\n",
        "# DataLoader\n",
        "train_loader = DataLoader(train_dataset, batch_size=batch_size, shuffle=True)\n",
        "val_loader = DataLoader(val_dataset, batch_size=batch_size, shuffle=True)"
      ],
      "metadata": {
        "colab": {
          "base_uri": "https://localhost:8080/"
        },
        "id": "tcXg-8hS5_88",
        "outputId": "3e1a7a9d-7cc1-4651-fdd9-11f27612f3b8"
      },
      "execution_count": 4,
      "outputs": [
        {
          "output_type": "stream",
          "name": "stdout",
          "text": [
            "Training samples: 48000, Validation samples: 12000\n"
          ]
        }
      ]
    },
    {
      "cell_type": "code",
      "source": [
        "batch_samples, batch_labels = next(iter(train_loader))\n",
        "batch_samples.shape, batch_labels.shape"
      ],
      "metadata": {
        "colab": {
          "base_uri": "https://localhost:8080/"
        },
        "id": "I3gLi8DT7oJ8",
        "outputId": "b24dfc9a-cb51-4543-bf9a-ca9146797e7b"
      },
      "execution_count": 5,
      "outputs": [
        {
          "output_type": "execute_result",
          "data": {
            "text/plain": [
              "(torch.Size([256, 1, 28, 28]), torch.Size([256]))"
            ]
          },
          "metadata": {},
          "execution_count": 5
        }
      ]
    },
    {
      "cell_type": "markdown",
      "source": [
        "### Mô hình VAE"
      ],
      "metadata": {
        "id": "FXLeM_8k7DaS"
      }
    },
    {
      "cell_type": "code",
      "source": [
        "class VAEModel(nn.Module):\n",
        "    def __init__(self, channels, latent_dim):\n",
        "        super().__init__()\n",
        "\n",
        "        # Encoder\n",
        "        self.conv1 = nn.Conv2d(channels, 16, kernel_size=3, padding=1)\n",
        "        self.conv2 = nn.Conv2d(16, 32, kernel_size=3, padding=1, stride=2)\n",
        "        self.conv3 = nn.Conv2d(32, 64, kernel_size=3, padding=1, stride=2)\n",
        "\n",
        "        self.flatten_dim = 64*7*7\n",
        "        self.fc_mu = nn.Linear(self.flatten_dim, latent_dim)\n",
        "        self.fc_logvar = nn.Linear(self.flatten_dim, latent_dim)\n",
        "\n",
        "        # Decoder\n",
        "        self.fc_decode = nn.Linear(latent_dim, self.flatten_dim)\n",
        "        self.deconv1 = nn.ConvTranspose2d(64, 32, kernel_size=3, stride=2, padding=1, output_padding=1)\n",
        "        self.deconv2 = nn.ConvTranspose2d(32, 16, kernel_size=3, stride=2, padding=1, output_padding=1)\n",
        "        self.conv_final = nn.Conv2d(16, channels, kernel_size=3, padding=1)\n",
        "\n",
        "    def encode(self, x):\n",
        "        x = F.relu(self.conv1(x))\n",
        "        x = F.relu(self.conv2(x))\n",
        "        x = F.relu(self.conv3(x))\n",
        "        x = x.view(-1, self.flatten_dim)\n",
        "        mu = self.fc_mu(x)\n",
        "        logvar = self.fc_logvar(x)\n",
        "        return mu, logvar\n",
        "\n",
        "    def reparameterize(self, mu, logvar):\n",
        "        std = torch.exp(0.5 * logvar)\n",
        "        eps = torch.randn_like(std)\n",
        "        return mu + eps * std\n",
        "\n",
        "    def decode(self, z):\n",
        "        x = F.relu(self.fc_decode(z))\n",
        "        x = x.view(-1, 64, 7, 7)\n",
        "        x = F.relu(self.deconv1(x))\n",
        "        x = F.relu(self.deconv2(x))\n",
        "        x = torch.sigmoid(self.conv_final(x))\n",
        "        return x\n",
        "\n",
        "    def forward(self, x):\n",
        "        mu, logvar = self.encode(x)\n",
        "        z = self.reparameterize(mu, logvar)\n",
        "        recon_x = self.decode(z)\n",
        "        return recon_x, mu, logvar"
      ],
      "metadata": {
        "id": "lGemBXK35_6X"
      },
      "execution_count": 6,
      "outputs": []
    },
    {
      "cell_type": "code",
      "source": [
        "def loss_function(recon_x, x, mu, log_var, B=1000):\n",
        "    # Flatten tensors for MSE calculation\n",
        "    recon_x_flat = recon_x.view(recon_x.size(0), -1)\n",
        "    x_flat = x.view(x.size(0), -1)\n",
        "\n",
        "    # Calculate MSE (per element average)\n",
        "    mse_out = F.mse_loss(recon_x_flat, x_flat, reduction='mean')\n",
        "\n",
        "    # Scale by input dimensions\n",
        "    reconstruction_loss = mse_out * x.shape[1] * x.shape[2] * x.shape[3]\n",
        "\n",
        "    # Calculate KL divergence\n",
        "    kl_loss =-0.5 * torch.sum(1 + log_var - mu.pow(2) - log_var.exp(), axis=1)\n",
        "\n",
        "    # Compute final loss (adding B*recon_loss + kl_loss)\n",
        "    total_loss = B * reconstruction_loss + torch.mean(kl_loss)\n",
        "    return total_loss, reconstruction_loss, torch.mean(kl_loss)"
      ],
      "metadata": {
        "id": "xruAQJXlEune"
      },
      "execution_count": 7,
      "outputs": []
    },
    {
      "cell_type": "code",
      "source": [
        "# Create model, optimizer, etc.\n",
        "model = VAEModel(channels, latent_dim).to(device)\n",
        "optimizer = optim.Adam(model.parameters(), lr=1e-3, weight_decay=1e-5)"
      ],
      "metadata": {
        "id": "e2EBjxGpEuk4"
      },
      "execution_count": 8,
      "outputs": []
    },
    {
      "cell_type": "code",
      "source": [
        "import os\n",
        "from datetime import datetime\n",
        "\n",
        "# Create a log directory if it doesn't exist\n",
        "log_dir = \"logs\"\n",
        "os.makedirs(log_dir, exist_ok=True)\n",
        "\n",
        "# Create a log file with timestamp\n",
        "timestamp = datetime.now().strftime(\"%Y%m%d_%H%M%S\")\n",
        "log_file = os.path.join(log_dir, f\"training_log_{timestamp}.txt\")\n",
        "\n",
        "# Open the log file\n",
        "with open(log_file, \"w\") as f:\n",
        "    f.write(f\"Training started at {datetime.now().strftime('%Y-%m-%d %H:%M:%S')}\\n\")\n",
        "    f.write(f\"Model: VAE with latent_dim={latent_dim}\\n\")\n",
        "    f.write(f\"Batch size: {batch_size}, Image size: {img_size}x{img_size}\\n\")\n",
        "    f.write(f\"Total epochs: {num_epochs}\\n\\n\")\n",
        "    f.write(\"Epoch,Avg_Loss,Recon_Loss,KL_Loss\\n\")\n",
        "\n",
        "# Training loop with logging\n",
        "model.train()\n",
        "\n",
        "for epoch in range(num_epochs):\n",
        "    train_loss = 0.0\n",
        "    epoch_bar = tqdm(train_loader, desc=f\"Epoch {epoch+1}/{num_epochs}\", leave=False)\n",
        "    for data, _ in epoch_bar:\n",
        "        data = data.to(device)\n",
        "        optimizer.zero_grad()\n",
        "        recon_batch, mu, logvar = model(data)\n",
        "        loss, recon_loss, kl_loss = loss_function(recon_batch, data, mu, logvar)\n",
        "        loss.backward()\n",
        "        train_loss += loss.item()\n",
        "        optimizer.step()\n",
        "        epoch_bar.set_postfix(loss=loss.item())\n",
        "\n",
        "    # Calculate average loss\n",
        "    avg_loss = train_loss / len(train_loader.dataset)\n",
        "\n",
        "    # Print epoch summary\n",
        "    print(f\"Epoch {epoch+1}/{num_epochs} Loss per sample: {avg_loss:.4f} \"\n",
        "            f\"Recon Loss: {recon_loss.item():.4f} KL Loss: {kl_loss.item():.4f}\")\n",
        "\n",
        "    # Save to log file\n",
        "    with open(log_file, \"a\") as f:\n",
        "        f.write(f\"{epoch+1},{avg_loss:.6f},{recon_loss.item():.6f},{kl_loss.item():.6f}\\n\")\n",
        "# Log training completion\n",
        "with open(log_file, \"a\") as f:\n",
        "    f.write(f\"\\nTraining completed at {datetime.now().strftime('%Y-%m-%d %H:%M:%S')}\\n\")\n",
        "\n",
        "print(f\"Training log saved to {log_file}\")"
      ],
      "metadata": {
        "colab": {
          "base_uri": "https://localhost:8080/"
        },
        "id": "w0UWjN4GEuie",
        "outputId": "94105f93-9f3e-4609-9089-6816e0b7a4ed"
      },
      "execution_count": 9,
      "outputs": [
        {
          "output_type": "stream",
          "name": "stderr",
          "text": []
        },
        {
          "output_type": "stream",
          "name": "stdout",
          "text": [
            "Epoch 1/500 Loss per sample: 325.5770 Recon Loss: 47.8862 KL Loss: 14.0319\n"
          ]
        },
        {
          "output_type": "stream",
          "name": "stderr",
          "text": []
        },
        {
          "output_type": "stream",
          "name": "stdout",
          "text": [
            "Epoch 2/500 Loss per sample: 179.5445 Recon Loss: 40.4608 KL Loss: 13.7901\n"
          ]
        },
        {
          "output_type": "stream",
          "name": "stderr",
          "text": []
        },
        {
          "output_type": "stream",
          "name": "stdout",
          "text": [
            "Epoch 3/500 Loss per sample: 160.2696 Recon Loss: 41.6192 KL Loss: 12.7399\n"
          ]
        },
        {
          "output_type": "stream",
          "name": "stderr",
          "text": []
        },
        {
          "output_type": "stream",
          "name": "stdout",
          "text": [
            "Epoch 4/500 Loss per sample: 152.8686 Recon Loss: 37.2798 KL Loss: 13.3173\n"
          ]
        },
        {
          "output_type": "stream",
          "name": "stderr",
          "text": []
        },
        {
          "output_type": "stream",
          "name": "stdout",
          "text": [
            "Epoch 5/500 Loss per sample: 148.7292 Recon Loss: 35.8117 KL Loss: 13.9856\n"
          ]
        },
        {
          "output_type": "stream",
          "name": "stderr",
          "text": []
        },
        {
          "output_type": "stream",
          "name": "stdout",
          "text": [
            "Epoch 6/500 Loss per sample: 145.3263 Recon Loss: 37.8202 KL Loss: 14.3673\n"
          ]
        },
        {
          "output_type": "stream",
          "name": "stderr",
          "text": []
        },
        {
          "output_type": "stream",
          "name": "stdout",
          "text": [
            "Epoch 7/500 Loss per sample: 142.7166 Recon Loss: 35.8263 KL Loss: 13.3707\n"
          ]
        },
        {
          "output_type": "stream",
          "name": "stderr",
          "text": []
        },
        {
          "output_type": "stream",
          "name": "stdout",
          "text": [
            "Epoch 8/500 Loss per sample: 140.5029 Recon Loss: 35.8252 KL Loss: 14.1953\n"
          ]
        },
        {
          "output_type": "stream",
          "name": "stderr",
          "text": []
        },
        {
          "output_type": "stream",
          "name": "stdout",
          "text": [
            "Epoch 9/500 Loss per sample: 138.8715 Recon Loss: 34.3999 KL Loss: 14.1694\n"
          ]
        },
        {
          "output_type": "stream",
          "name": "stderr",
          "text": []
        },
        {
          "output_type": "stream",
          "name": "stdout",
          "text": [
            "Epoch 10/500 Loss per sample: 137.5373 Recon Loss: 36.3228 KL Loss: 14.6275\n"
          ]
        },
        {
          "output_type": "stream",
          "name": "stderr",
          "text": []
        },
        {
          "output_type": "stream",
          "name": "stdout",
          "text": [
            "Epoch 11/500 Loss per sample: 136.1139 Recon Loss: 34.5808 KL Loss: 15.1531\n"
          ]
        },
        {
          "output_type": "stream",
          "name": "stderr",
          "text": []
        },
        {
          "output_type": "stream",
          "name": "stdout",
          "text": [
            "Epoch 12/500 Loss per sample: 135.0652 Recon Loss: 34.9511 KL Loss: 15.0170\n"
          ]
        },
        {
          "output_type": "stream",
          "name": "stderr",
          "text": []
        },
        {
          "output_type": "stream",
          "name": "stdout",
          "text": [
            "Epoch 13/500 Loss per sample: 134.9210 Recon Loss: 35.6092 KL Loss: 14.3525\n"
          ]
        },
        {
          "output_type": "stream",
          "name": "stderr",
          "text": []
        },
        {
          "output_type": "stream",
          "name": "stdout",
          "text": [
            "Epoch 14/500 Loss per sample: 133.1176 Recon Loss: 33.4499 KL Loss: 15.4303\n"
          ]
        },
        {
          "output_type": "stream",
          "name": "stderr",
          "text": []
        },
        {
          "output_type": "stream",
          "name": "stdout",
          "text": [
            "Epoch 15/500 Loss per sample: 132.5592 Recon Loss: 32.9561 KL Loss: 14.9040\n"
          ]
        },
        {
          "output_type": "stream",
          "name": "stderr",
          "text": []
        },
        {
          "output_type": "stream",
          "name": "stdout",
          "text": [
            "Epoch 16/500 Loss per sample: 131.9137 Recon Loss: 33.9766 KL Loss: 16.0086\n"
          ]
        },
        {
          "output_type": "stream",
          "name": "stderr",
          "text": []
        },
        {
          "output_type": "stream",
          "name": "stdout",
          "text": [
            "Epoch 17/500 Loss per sample: 131.3568 Recon Loss: 32.5392 KL Loss: 15.2123\n"
          ]
        },
        {
          "output_type": "stream",
          "name": "stderr",
          "text": []
        },
        {
          "output_type": "stream",
          "name": "stdout",
          "text": [
            "Epoch 18/500 Loss per sample: 130.8503 Recon Loss: 32.9279 KL Loss: 15.9716\n"
          ]
        },
        {
          "output_type": "stream",
          "name": "stderr",
          "text": []
        },
        {
          "output_type": "stream",
          "name": "stdout",
          "text": [
            "Epoch 19/500 Loss per sample: 130.2105 Recon Loss: 31.8151 KL Loss: 15.9949\n"
          ]
        },
        {
          "output_type": "stream",
          "name": "stderr",
          "text": []
        },
        {
          "output_type": "stream",
          "name": "stdout",
          "text": [
            "Epoch 20/500 Loss per sample: 129.5625 Recon Loss: 34.1732 KL Loss: 15.3767\n"
          ]
        },
        {
          "output_type": "stream",
          "name": "stderr",
          "text": []
        },
        {
          "output_type": "stream",
          "name": "stdout",
          "text": [
            "Epoch 21/500 Loss per sample: 129.1063 Recon Loss: 33.1467 KL Loss: 15.4391\n"
          ]
        },
        {
          "output_type": "stream",
          "name": "stderr",
          "text": []
        },
        {
          "output_type": "stream",
          "name": "stdout",
          "text": [
            "Epoch 22/500 Loss per sample: 128.9475 Recon Loss: 30.9834 KL Loss: 15.4307\n"
          ]
        },
        {
          "output_type": "stream",
          "name": "stderr",
          "text": []
        },
        {
          "output_type": "stream",
          "name": "stdout",
          "text": [
            "Epoch 23/500 Loss per sample: 128.3821 Recon Loss: 33.2264 KL Loss: 15.0091\n"
          ]
        },
        {
          "output_type": "stream",
          "name": "stderr",
          "text": []
        },
        {
          "output_type": "stream",
          "name": "stdout",
          "text": [
            "Epoch 24/500 Loss per sample: 127.9871 Recon Loss: 32.6996 KL Loss: 15.3636\n"
          ]
        },
        {
          "output_type": "stream",
          "name": "stderr",
          "text": []
        },
        {
          "output_type": "stream",
          "name": "stdout",
          "text": [
            "Epoch 25/500 Loss per sample: 127.6636 Recon Loss: 32.4621 KL Loss: 15.9446\n"
          ]
        },
        {
          "output_type": "stream",
          "name": "stderr",
          "text": []
        },
        {
          "output_type": "stream",
          "name": "stdout",
          "text": [
            "Epoch 26/500 Loss per sample: 127.5720 Recon Loss: 32.5872 KL Loss: 15.7937\n"
          ]
        },
        {
          "output_type": "stream",
          "name": "stderr",
          "text": []
        },
        {
          "output_type": "stream",
          "name": "stdout",
          "text": [
            "Epoch 27/500 Loss per sample: 126.9037 Recon Loss: 34.0172 KL Loss: 14.5269\n"
          ]
        },
        {
          "output_type": "stream",
          "name": "stderr",
          "text": []
        },
        {
          "output_type": "stream",
          "name": "stdout",
          "text": [
            "Epoch 28/500 Loss per sample: 126.9815 Recon Loss: 30.7833 KL Loss: 16.7281\n"
          ]
        },
        {
          "output_type": "stream",
          "name": "stderr",
          "text": []
        },
        {
          "output_type": "stream",
          "name": "stdout",
          "text": [
            "Epoch 29/500 Loss per sample: 126.5611 Recon Loss: 32.7924 KL Loss: 15.9694\n"
          ]
        },
        {
          "output_type": "stream",
          "name": "stderr",
          "text": []
        },
        {
          "output_type": "stream",
          "name": "stdout",
          "text": [
            "Epoch 30/500 Loss per sample: 126.1812 Recon Loss: 32.0188 KL Loss: 15.4492\n"
          ]
        },
        {
          "output_type": "stream",
          "name": "stderr",
          "text": []
        },
        {
          "output_type": "stream",
          "name": "stdout",
          "text": [
            "Epoch 31/500 Loss per sample: 125.7983 Recon Loss: 33.2107 KL Loss: 15.4215\n"
          ]
        },
        {
          "output_type": "stream",
          "name": "stderr",
          "text": []
        },
        {
          "output_type": "stream",
          "name": "stdout",
          "text": [
            "Epoch 32/500 Loss per sample: 125.6388 Recon Loss: 29.7718 KL Loss: 15.8527\n"
          ]
        },
        {
          "output_type": "stream",
          "name": "stderr",
          "text": []
        },
        {
          "output_type": "stream",
          "name": "stdout",
          "text": [
            "Epoch 33/500 Loss per sample: 125.3406 Recon Loss: 31.1829 KL Loss: 16.5992\n"
          ]
        },
        {
          "output_type": "stream",
          "name": "stderr",
          "text": []
        },
        {
          "output_type": "stream",
          "name": "stdout",
          "text": [
            "Epoch 34/500 Loss per sample: 125.2448 Recon Loss: 33.5770 KL Loss: 15.2380\n"
          ]
        },
        {
          "output_type": "stream",
          "name": "stderr",
          "text": []
        },
        {
          "output_type": "stream",
          "name": "stdout",
          "text": [
            "Epoch 35/500 Loss per sample: 124.8511 Recon Loss: 30.5788 KL Loss: 16.4813\n"
          ]
        },
        {
          "output_type": "stream",
          "name": "stderr",
          "text": []
        },
        {
          "output_type": "stream",
          "name": "stdout",
          "text": [
            "Epoch 36/500 Loss per sample: 124.7751 Recon Loss: 34.3994 KL Loss: 15.1806\n"
          ]
        },
        {
          "output_type": "stream",
          "name": "stderr",
          "text": []
        },
        {
          "output_type": "stream",
          "name": "stdout",
          "text": [
            "Epoch 37/500 Loss per sample: 124.4661 Recon Loss: 31.3068 KL Loss: 16.3277\n"
          ]
        },
        {
          "output_type": "stream",
          "name": "stderr",
          "text": []
        },
        {
          "output_type": "stream",
          "name": "stdout",
          "text": [
            "Epoch 38/500 Loss per sample: 124.3375 Recon Loss: 30.7469 KL Loss: 16.1369\n"
          ]
        },
        {
          "output_type": "stream",
          "name": "stderr",
          "text": []
        },
        {
          "output_type": "stream",
          "name": "stdout",
          "text": [
            "Epoch 39/500 Loss per sample: 124.1831 Recon Loss: 31.5952 KL Loss: 17.2208\n"
          ]
        },
        {
          "output_type": "stream",
          "name": "stderr",
          "text": []
        },
        {
          "output_type": "stream",
          "name": "stdout",
          "text": [
            "Epoch 40/500 Loss per sample: 124.1101 Recon Loss: 32.2007 KL Loss: 17.0276\n"
          ]
        },
        {
          "output_type": "stream",
          "name": "stderr",
          "text": []
        },
        {
          "output_type": "stream",
          "name": "stdout",
          "text": [
            "Epoch 41/500 Loss per sample: 123.7616 Recon Loss: 34.1584 KL Loss: 14.8943\n"
          ]
        },
        {
          "output_type": "stream",
          "name": "stderr",
          "text": []
        },
        {
          "output_type": "stream",
          "name": "stdout",
          "text": [
            "Epoch 42/500 Loss per sample: 123.6275 Recon Loss: 32.6531 KL Loss: 17.0232\n"
          ]
        },
        {
          "output_type": "stream",
          "name": "stderr",
          "text": []
        },
        {
          "output_type": "stream",
          "name": "stdout",
          "text": [
            "Epoch 43/500 Loss per sample: 123.5078 Recon Loss: 28.4995 KL Loss: 17.0349\n"
          ]
        },
        {
          "output_type": "stream",
          "name": "stderr",
          "text": []
        },
        {
          "output_type": "stream",
          "name": "stdout",
          "text": [
            "Epoch 44/500 Loss per sample: 123.4511 Recon Loss: 31.8444 KL Loss: 16.4021\n"
          ]
        },
        {
          "output_type": "stream",
          "name": "stderr",
          "text": []
        },
        {
          "output_type": "stream",
          "name": "stdout",
          "text": [
            "Epoch 45/500 Loss per sample: 123.1623 Recon Loss: 32.6818 KL Loss: 17.5949\n"
          ]
        },
        {
          "output_type": "stream",
          "name": "stderr",
          "text": []
        },
        {
          "output_type": "stream",
          "name": "stdout",
          "text": [
            "Epoch 46/500 Loss per sample: 123.0474 Recon Loss: 31.4181 KL Loss: 16.8729\n"
          ]
        },
        {
          "output_type": "stream",
          "name": "stderr",
          "text": []
        },
        {
          "output_type": "stream",
          "name": "stdout",
          "text": [
            "Epoch 47/500 Loss per sample: 122.7578 Recon Loss: 28.8492 KL Loss: 17.4537\n"
          ]
        },
        {
          "output_type": "stream",
          "name": "stderr",
          "text": []
        },
        {
          "output_type": "stream",
          "name": "stdout",
          "text": [
            "Epoch 48/500 Loss per sample: 122.4995 Recon Loss: 31.0347 KL Loss: 16.8574\n"
          ]
        },
        {
          "output_type": "stream",
          "name": "stderr",
          "text": []
        },
        {
          "output_type": "stream",
          "name": "stdout",
          "text": [
            "Epoch 49/500 Loss per sample: 122.6028 Recon Loss: 31.2076 KL Loss: 17.0826\n"
          ]
        },
        {
          "output_type": "stream",
          "name": "stderr",
          "text": []
        },
        {
          "output_type": "stream",
          "name": "stdout",
          "text": [
            "Epoch 50/500 Loss per sample: 122.3939 Recon Loss: 29.1135 KL Loss: 17.4315\n"
          ]
        },
        {
          "output_type": "stream",
          "name": "stderr",
          "text": []
        },
        {
          "output_type": "stream",
          "name": "stdout",
          "text": [
            "Epoch 51/500 Loss per sample: 122.3781 Recon Loss: 32.3669 KL Loss: 16.7040\n"
          ]
        },
        {
          "output_type": "stream",
          "name": "stderr",
          "text": []
        },
        {
          "output_type": "stream",
          "name": "stdout",
          "text": [
            "Epoch 52/500 Loss per sample: 122.2697 Recon Loss: 30.4202 KL Loss: 16.6824\n"
          ]
        },
        {
          "output_type": "stream",
          "name": "stderr",
          "text": []
        },
        {
          "output_type": "stream",
          "name": "stdout",
          "text": [
            "Epoch 53/500 Loss per sample: 121.8216 Recon Loss: 31.5027 KL Loss: 16.5889\n"
          ]
        },
        {
          "output_type": "stream",
          "name": "stderr",
          "text": []
        },
        {
          "output_type": "stream",
          "name": "stdout",
          "text": [
            "Epoch 54/500 Loss per sample: 121.8657 Recon Loss: 31.6417 KL Loss: 18.3602\n"
          ]
        },
        {
          "output_type": "stream",
          "name": "stderr",
          "text": []
        },
        {
          "output_type": "stream",
          "name": "stdout",
          "text": [
            "Epoch 55/500 Loss per sample: 121.6806 Recon Loss: 31.4986 KL Loss: 15.6840\n"
          ]
        },
        {
          "output_type": "stream",
          "name": "stderr",
          "text": []
        },
        {
          "output_type": "stream",
          "name": "stdout",
          "text": [
            "Epoch 56/500 Loss per sample: 121.6292 Recon Loss: 30.9697 KL Loss: 16.4725\n"
          ]
        },
        {
          "output_type": "stream",
          "name": "stderr",
          "text": []
        },
        {
          "output_type": "stream",
          "name": "stdout",
          "text": [
            "Epoch 57/500 Loss per sample: 121.5103 Recon Loss: 31.4497 KL Loss: 16.0051\n"
          ]
        },
        {
          "output_type": "stream",
          "name": "stderr",
          "text": []
        },
        {
          "output_type": "stream",
          "name": "stdout",
          "text": [
            "Epoch 58/500 Loss per sample: 121.4587 Recon Loss: 33.1192 KL Loss: 14.7847\n"
          ]
        },
        {
          "output_type": "stream",
          "name": "stderr",
          "text": []
        },
        {
          "output_type": "stream",
          "name": "stdout",
          "text": [
            "Epoch 59/500 Loss per sample: 121.2020 Recon Loss: 31.1111 KL Loss: 16.0531\n"
          ]
        },
        {
          "output_type": "stream",
          "name": "stderr",
          "text": []
        },
        {
          "output_type": "stream",
          "name": "stdout",
          "text": [
            "Epoch 60/500 Loss per sample: 121.1892 Recon Loss: 34.0084 KL Loss: 15.1824\n"
          ]
        },
        {
          "output_type": "stream",
          "name": "stderr",
          "text": []
        },
        {
          "output_type": "stream",
          "name": "stdout",
          "text": [
            "Epoch 61/500 Loss per sample: 121.0700 Recon Loss: 31.9392 KL Loss: 16.2378\n"
          ]
        },
        {
          "output_type": "stream",
          "name": "stderr",
          "text": []
        },
        {
          "output_type": "stream",
          "name": "stdout",
          "text": [
            "Epoch 62/500 Loss per sample: 121.1151 Recon Loss: 29.0754 KL Loss: 17.8980\n"
          ]
        },
        {
          "output_type": "stream",
          "name": "stderr",
          "text": []
        },
        {
          "output_type": "stream",
          "name": "stdout",
          "text": [
            "Epoch 63/500 Loss per sample: 120.7200 Recon Loss: 31.1248 KL Loss: 17.4364\n"
          ]
        },
        {
          "output_type": "stream",
          "name": "stderr",
          "text": []
        },
        {
          "output_type": "stream",
          "name": "stdout",
          "text": [
            "Epoch 64/500 Loss per sample: 120.7824 Recon Loss: 30.5488 KL Loss: 16.6846\n"
          ]
        },
        {
          "output_type": "stream",
          "name": "stderr",
          "text": []
        },
        {
          "output_type": "stream",
          "name": "stdout",
          "text": [
            "Epoch 65/500 Loss per sample: 120.5664 Recon Loss: 31.5675 KL Loss: 16.5857\n"
          ]
        },
        {
          "output_type": "stream",
          "name": "stderr",
          "text": []
        },
        {
          "output_type": "stream",
          "name": "stdout",
          "text": [
            "Epoch 66/500 Loss per sample: 120.5157 Recon Loss: 31.1984 KL Loss: 16.4964\n"
          ]
        },
        {
          "output_type": "stream",
          "name": "stderr",
          "text": []
        },
        {
          "output_type": "stream",
          "name": "stdout",
          "text": [
            "Epoch 67/500 Loss per sample: 120.4794 Recon Loss: 29.6590 KL Loss: 17.6221\n"
          ]
        },
        {
          "output_type": "stream",
          "name": "stderr",
          "text": []
        },
        {
          "output_type": "stream",
          "name": "stdout",
          "text": [
            "Epoch 68/500 Loss per sample: 120.4045 Recon Loss: 30.5279 KL Loss: 17.3913\n"
          ]
        },
        {
          "output_type": "stream",
          "name": "stderr",
          "text": []
        },
        {
          "output_type": "stream",
          "name": "stdout",
          "text": [
            "Epoch 69/500 Loss per sample: 120.3081 Recon Loss: 29.0899 KL Loss: 17.6699\n"
          ]
        },
        {
          "output_type": "stream",
          "name": "stderr",
          "text": []
        },
        {
          "output_type": "stream",
          "name": "stdout",
          "text": [
            "Epoch 70/500 Loss per sample: 120.1763 Recon Loss: 29.8105 KL Loss: 16.7958\n"
          ]
        },
        {
          "output_type": "stream",
          "name": "stderr",
          "text": []
        },
        {
          "output_type": "stream",
          "name": "stdout",
          "text": [
            "Epoch 71/500 Loss per sample: 120.0941 Recon Loss: 31.7627 KL Loss: 18.1143\n"
          ]
        },
        {
          "output_type": "stream",
          "name": "stderr",
          "text": []
        },
        {
          "output_type": "stream",
          "name": "stdout",
          "text": [
            "Epoch 72/500 Loss per sample: 120.0576 Recon Loss: 32.0678 KL Loss: 16.7867\n"
          ]
        },
        {
          "output_type": "stream",
          "name": "stderr",
          "text": []
        },
        {
          "output_type": "stream",
          "name": "stdout",
          "text": [
            "Epoch 73/500 Loss per sample: 119.9161 Recon Loss: 30.1341 KL Loss: 16.2194\n"
          ]
        },
        {
          "output_type": "stream",
          "name": "stderr",
          "text": []
        },
        {
          "output_type": "stream",
          "name": "stdout",
          "text": [
            "Epoch 74/500 Loss per sample: 119.9734 Recon Loss: 30.2602 KL Loss: 17.3019\n"
          ]
        },
        {
          "output_type": "stream",
          "name": "stderr",
          "text": []
        },
        {
          "output_type": "stream",
          "name": "stdout",
          "text": [
            "Epoch 75/500 Loss per sample: 119.8248 Recon Loss: 31.1119 KL Loss: 17.0507\n"
          ]
        },
        {
          "output_type": "stream",
          "name": "stderr",
          "text": []
        },
        {
          "output_type": "stream",
          "name": "stdout",
          "text": [
            "Epoch 76/500 Loss per sample: 119.7075 Recon Loss: 32.3101 KL Loss: 17.1924\n"
          ]
        },
        {
          "output_type": "stream",
          "name": "stderr",
          "text": []
        },
        {
          "output_type": "stream",
          "name": "stdout",
          "text": [
            "Epoch 77/500 Loss per sample: 119.5751 Recon Loss: 30.5823 KL Loss: 17.3286\n"
          ]
        },
        {
          "output_type": "stream",
          "name": "stderr",
          "text": []
        },
        {
          "output_type": "stream",
          "name": "stdout",
          "text": [
            "Epoch 78/500 Loss per sample: 119.4951 Recon Loss: 30.2281 KL Loss: 16.3349\n"
          ]
        },
        {
          "output_type": "stream",
          "name": "stderr",
          "text": []
        },
        {
          "output_type": "stream",
          "name": "stdout",
          "text": [
            "Epoch 79/500 Loss per sample: 119.4082 Recon Loss: 29.0867 KL Loss: 17.8258\n"
          ]
        },
        {
          "output_type": "stream",
          "name": "stderr",
          "text": []
        },
        {
          "output_type": "stream",
          "name": "stdout",
          "text": [
            "Epoch 80/500 Loss per sample: 119.6691 Recon Loss: 32.8751 KL Loss: 16.6012\n"
          ]
        },
        {
          "output_type": "stream",
          "name": "stderr",
          "text": []
        },
        {
          "output_type": "stream",
          "name": "stdout",
          "text": [
            "Epoch 81/500 Loss per sample: 119.4457 Recon Loss: 31.8495 KL Loss: 16.6343\n"
          ]
        },
        {
          "output_type": "stream",
          "name": "stderr",
          "text": []
        },
        {
          "output_type": "stream",
          "name": "stdout",
          "text": [
            "Epoch 82/500 Loss per sample: 119.3421 Recon Loss: 30.3996 KL Loss: 17.3049\n"
          ]
        },
        {
          "output_type": "stream",
          "name": "stderr",
          "text": []
        },
        {
          "output_type": "stream",
          "name": "stdout",
          "text": [
            "Epoch 83/500 Loss per sample: 119.1594 Recon Loss: 29.6325 KL Loss: 18.6814\n"
          ]
        },
        {
          "output_type": "stream",
          "name": "stderr",
          "text": []
        },
        {
          "output_type": "stream",
          "name": "stdout",
          "text": [
            "Epoch 84/500 Loss per sample: 119.1051 Recon Loss: 30.1755 KL Loss: 17.4624\n"
          ]
        },
        {
          "output_type": "stream",
          "name": "stderr",
          "text": []
        },
        {
          "output_type": "stream",
          "name": "stdout",
          "text": [
            "Epoch 85/500 Loss per sample: 119.1354 Recon Loss: 30.0116 KL Loss: 17.2102\n"
          ]
        },
        {
          "output_type": "stream",
          "name": "stderr",
          "text": []
        },
        {
          "output_type": "stream",
          "name": "stdout",
          "text": [
            "Epoch 86/500 Loss per sample: 118.9482 Recon Loss: 29.0714 KL Loss: 18.8361\n"
          ]
        },
        {
          "output_type": "stream",
          "name": "stderr",
          "text": []
        },
        {
          "output_type": "stream",
          "name": "stdout",
          "text": [
            "Epoch 87/500 Loss per sample: 118.8853 Recon Loss: 28.1006 KL Loss: 17.4332\n"
          ]
        },
        {
          "output_type": "stream",
          "name": "stderr",
          "text": []
        },
        {
          "output_type": "stream",
          "name": "stdout",
          "text": [
            "Epoch 88/500 Loss per sample: 118.8285 Recon Loss: 30.3727 KL Loss: 19.1085\n"
          ]
        },
        {
          "output_type": "stream",
          "name": "stderr",
          "text": []
        },
        {
          "output_type": "stream",
          "name": "stdout",
          "text": [
            "Epoch 89/500 Loss per sample: 118.8652 Recon Loss: 30.6301 KL Loss: 18.8554\n"
          ]
        },
        {
          "output_type": "stream",
          "name": "stderr",
          "text": []
        },
        {
          "output_type": "stream",
          "name": "stdout",
          "text": [
            "Epoch 90/500 Loss per sample: 118.7620 Recon Loss: 29.7345 KL Loss: 17.1783\n"
          ]
        },
        {
          "output_type": "stream",
          "name": "stderr",
          "text": []
        },
        {
          "output_type": "stream",
          "name": "stdout",
          "text": [
            "Epoch 91/500 Loss per sample: 118.7265 Recon Loss: 31.9264 KL Loss: 16.8981\n"
          ]
        },
        {
          "output_type": "stream",
          "name": "stderr",
          "text": []
        },
        {
          "output_type": "stream",
          "name": "stdout",
          "text": [
            "Epoch 92/500 Loss per sample: 118.6856 Recon Loss: 29.4674 KL Loss: 17.8175\n"
          ]
        },
        {
          "output_type": "stream",
          "name": "stderr",
          "text": []
        },
        {
          "output_type": "stream",
          "name": "stdout",
          "text": [
            "Epoch 93/500 Loss per sample: 118.5133 Recon Loss: 28.7778 KL Loss: 17.5014\n"
          ]
        },
        {
          "output_type": "stream",
          "name": "stderr",
          "text": []
        },
        {
          "output_type": "stream",
          "name": "stdout",
          "text": [
            "Epoch 94/500 Loss per sample: 118.4749 Recon Loss: 30.9622 KL Loss: 18.4900\n"
          ]
        },
        {
          "output_type": "stream",
          "name": "stderr",
          "text": []
        },
        {
          "output_type": "stream",
          "name": "stdout",
          "text": [
            "Epoch 95/500 Loss per sample: 118.5236 Recon Loss: 32.1164 KL Loss: 15.6246\n"
          ]
        },
        {
          "output_type": "stream",
          "name": "stderr",
          "text": []
        },
        {
          "output_type": "stream",
          "name": "stdout",
          "text": [
            "Epoch 96/500 Loss per sample: 118.3722 Recon Loss: 30.4066 KL Loss: 17.4657\n"
          ]
        },
        {
          "output_type": "stream",
          "name": "stderr",
          "text": []
        },
        {
          "output_type": "stream",
          "name": "stdout",
          "text": [
            "Epoch 97/500 Loss per sample: 118.3225 Recon Loss: 28.5984 KL Loss: 18.7257\n"
          ]
        },
        {
          "output_type": "stream",
          "name": "stderr",
          "text": []
        },
        {
          "output_type": "stream",
          "name": "stdout",
          "text": [
            "Epoch 98/500 Loss per sample: 118.2670 Recon Loss: 27.8427 KL Loss: 21.3342\n"
          ]
        },
        {
          "output_type": "stream",
          "name": "stderr",
          "text": []
        },
        {
          "output_type": "stream",
          "name": "stdout",
          "text": [
            "Epoch 99/500 Loss per sample: 118.4419 Recon Loss: 29.0981 KL Loss: 18.8749\n"
          ]
        },
        {
          "output_type": "stream",
          "name": "stderr",
          "text": []
        },
        {
          "output_type": "stream",
          "name": "stdout",
          "text": [
            "Epoch 100/500 Loss per sample: 118.2633 Recon Loss: 32.0802 KL Loss: 16.9112\n"
          ]
        },
        {
          "output_type": "stream",
          "name": "stderr",
          "text": []
        },
        {
          "output_type": "stream",
          "name": "stdout",
          "text": [
            "Epoch 101/500 Loss per sample: 118.1457 Recon Loss: 29.1969 KL Loss: 18.5139\n"
          ]
        },
        {
          "output_type": "stream",
          "name": "stderr",
          "text": []
        },
        {
          "output_type": "stream",
          "name": "stdout",
          "text": [
            "Epoch 102/500 Loss per sample: 117.9453 Recon Loss: 29.4620 KL Loss: 17.3054\n"
          ]
        },
        {
          "output_type": "stream",
          "name": "stderr",
          "text": []
        },
        {
          "output_type": "stream",
          "name": "stdout",
          "text": [
            "Epoch 103/500 Loss per sample: 117.9238 Recon Loss: 29.3605 KL Loss: 18.5714\n"
          ]
        },
        {
          "output_type": "stream",
          "name": "stderr",
          "text": []
        },
        {
          "output_type": "stream",
          "name": "stdout",
          "text": [
            "Epoch 104/500 Loss per sample: 118.0342 Recon Loss: 30.5250 KL Loss: 17.9067\n"
          ]
        },
        {
          "output_type": "stream",
          "name": "stderr",
          "text": []
        },
        {
          "output_type": "stream",
          "name": "stdout",
          "text": [
            "Epoch 105/500 Loss per sample: 117.7995 Recon Loss: 30.2559 KL Loss: 19.2430\n"
          ]
        },
        {
          "output_type": "stream",
          "name": "stderr",
          "text": []
        },
        {
          "output_type": "stream",
          "name": "stdout",
          "text": [
            "Epoch 106/500 Loss per sample: 117.9307 Recon Loss: 31.7380 KL Loss: 17.6552\n"
          ]
        },
        {
          "output_type": "stream",
          "name": "stderr",
          "text": []
        },
        {
          "output_type": "stream",
          "name": "stdout",
          "text": [
            "Epoch 107/500 Loss per sample: 118.0276 Recon Loss: 30.4562 KL Loss: 18.1170\n"
          ]
        },
        {
          "output_type": "stream",
          "name": "stderr",
          "text": []
        },
        {
          "output_type": "stream",
          "name": "stdout",
          "text": [
            "Epoch 108/500 Loss per sample: 117.8507 Recon Loss: 33.2533 KL Loss: 17.5521\n"
          ]
        },
        {
          "output_type": "stream",
          "name": "stderr",
          "text": []
        },
        {
          "output_type": "stream",
          "name": "stdout",
          "text": [
            "Epoch 109/500 Loss per sample: 117.6349 Recon Loss: 31.8710 KL Loss: 17.5886\n"
          ]
        },
        {
          "output_type": "stream",
          "name": "stderr",
          "text": []
        },
        {
          "output_type": "stream",
          "name": "stdout",
          "text": [
            "Epoch 110/500 Loss per sample: 117.6489 Recon Loss: 30.8049 KL Loss: 17.3669\n"
          ]
        },
        {
          "output_type": "stream",
          "name": "stderr",
          "text": []
        },
        {
          "output_type": "stream",
          "name": "stdout",
          "text": [
            "Epoch 111/500 Loss per sample: 117.6519 Recon Loss: 30.8174 KL Loss: 18.3907\n"
          ]
        },
        {
          "output_type": "stream",
          "name": "stderr",
          "text": []
        },
        {
          "output_type": "stream",
          "name": "stdout",
          "text": [
            "Epoch 112/500 Loss per sample: 117.6245 Recon Loss: 30.2923 KL Loss: 18.2521\n"
          ]
        },
        {
          "output_type": "stream",
          "name": "stderr",
          "text": []
        },
        {
          "output_type": "stream",
          "name": "stdout",
          "text": [
            "Epoch 113/500 Loss per sample: 117.4894 Recon Loss: 28.0766 KL Loss: 18.3404\n"
          ]
        },
        {
          "output_type": "stream",
          "name": "stderr",
          "text": []
        },
        {
          "output_type": "stream",
          "name": "stdout",
          "text": [
            "Epoch 114/500 Loss per sample: 117.5474 Recon Loss: 29.0356 KL Loss: 18.1055\n"
          ]
        },
        {
          "output_type": "stream",
          "name": "stderr",
          "text": []
        },
        {
          "output_type": "stream",
          "name": "stdout",
          "text": [
            "Epoch 115/500 Loss per sample: 117.4084 Recon Loss: 30.5078 KL Loss: 16.9523\n"
          ]
        },
        {
          "output_type": "stream",
          "name": "stderr",
          "text": []
        },
        {
          "output_type": "stream",
          "name": "stdout",
          "text": [
            "Epoch 116/500 Loss per sample: 117.3047 Recon Loss: 27.6904 KL Loss: 19.8879\n"
          ]
        },
        {
          "output_type": "stream",
          "name": "stderr",
          "text": []
        },
        {
          "output_type": "stream",
          "name": "stdout",
          "text": [
            "Epoch 117/500 Loss per sample: 117.3538 Recon Loss: 28.0178 KL Loss: 20.6751\n"
          ]
        },
        {
          "output_type": "stream",
          "name": "stderr",
          "text": []
        },
        {
          "output_type": "stream",
          "name": "stdout",
          "text": [
            "Epoch 118/500 Loss per sample: 117.4521 Recon Loss: 31.4732 KL Loss: 17.1212\n"
          ]
        },
        {
          "output_type": "stream",
          "name": "stderr",
          "text": []
        },
        {
          "output_type": "stream",
          "name": "stdout",
          "text": [
            "Epoch 119/500 Loss per sample: 117.0470 Recon Loss: 29.1047 KL Loss: 18.4300\n"
          ]
        },
        {
          "output_type": "stream",
          "name": "stderr",
          "text": []
        },
        {
          "output_type": "stream",
          "name": "stdout",
          "text": [
            "Epoch 120/500 Loss per sample: 117.1099 Recon Loss: 29.4969 KL Loss: 21.7975\n"
          ]
        },
        {
          "output_type": "stream",
          "name": "stderr",
          "text": []
        },
        {
          "output_type": "stream",
          "name": "stdout",
          "text": [
            "Epoch 121/500 Loss per sample: 117.1358 Recon Loss: 29.3263 KL Loss: 18.3983\n"
          ]
        },
        {
          "output_type": "stream",
          "name": "stderr",
          "text": []
        },
        {
          "output_type": "stream",
          "name": "stdout",
          "text": [
            "Epoch 122/500 Loss per sample: 117.0407 Recon Loss: 27.6494 KL Loss: 19.5387\n"
          ]
        },
        {
          "output_type": "stream",
          "name": "stderr",
          "text": []
        },
        {
          "output_type": "stream",
          "name": "stdout",
          "text": [
            "Epoch 123/500 Loss per sample: 117.1111 Recon Loss: 29.5168 KL Loss: 19.3341\n"
          ]
        },
        {
          "output_type": "stream",
          "name": "stderr",
          "text": []
        },
        {
          "output_type": "stream",
          "name": "stdout",
          "text": [
            "Epoch 124/500 Loss per sample: 117.2677 Recon Loss: 30.0374 KL Loss: 17.0202\n"
          ]
        },
        {
          "output_type": "stream",
          "name": "stderr",
          "text": []
        },
        {
          "output_type": "stream",
          "name": "stdout",
          "text": [
            "Epoch 125/500 Loss per sample: 116.9331 Recon Loss: 28.0767 KL Loss: 18.8343\n"
          ]
        },
        {
          "output_type": "stream",
          "name": "stderr",
          "text": []
        },
        {
          "output_type": "stream",
          "name": "stdout",
          "text": [
            "Epoch 126/500 Loss per sample: 117.0181 Recon Loss: 28.3378 KL Loss: 18.7469\n"
          ]
        },
        {
          "output_type": "stream",
          "name": "stderr",
          "text": []
        },
        {
          "output_type": "stream",
          "name": "stdout",
          "text": [
            "Epoch 127/500 Loss per sample: 116.9099 Recon Loss: 29.2003 KL Loss: 18.8446\n"
          ]
        },
        {
          "output_type": "stream",
          "name": "stderr",
          "text": []
        },
        {
          "output_type": "stream",
          "name": "stdout",
          "text": [
            "Epoch 128/500 Loss per sample: 116.9089 Recon Loss: 28.4677 KL Loss: 17.5971\n"
          ]
        },
        {
          "output_type": "stream",
          "name": "stderr",
          "text": []
        },
        {
          "output_type": "stream",
          "name": "stdout",
          "text": [
            "Epoch 129/500 Loss per sample: 116.9624 Recon Loss: 29.8860 KL Loss: 19.7553\n"
          ]
        },
        {
          "output_type": "stream",
          "name": "stderr",
          "text": []
        },
        {
          "output_type": "stream",
          "name": "stdout",
          "text": [
            "Epoch 130/500 Loss per sample: 116.8233 Recon Loss: 30.1377 KL Loss: 18.0033\n"
          ]
        },
        {
          "output_type": "stream",
          "name": "stderr",
          "text": []
        },
        {
          "output_type": "stream",
          "name": "stdout",
          "text": [
            "Epoch 131/500 Loss per sample: 116.8228 Recon Loss: 29.2684 KL Loss: 19.2014\n"
          ]
        },
        {
          "output_type": "stream",
          "name": "stderr",
          "text": []
        },
        {
          "output_type": "stream",
          "name": "stdout",
          "text": [
            "Epoch 132/500 Loss per sample: 116.8209 Recon Loss: 30.2337 KL Loss: 18.3371\n"
          ]
        },
        {
          "output_type": "stream",
          "name": "stderr",
          "text": []
        },
        {
          "output_type": "stream",
          "name": "stdout",
          "text": [
            "Epoch 133/500 Loss per sample: 116.8107 Recon Loss: 30.5628 KL Loss: 18.3836\n"
          ]
        },
        {
          "output_type": "stream",
          "name": "stderr",
          "text": []
        },
        {
          "output_type": "stream",
          "name": "stdout",
          "text": [
            "Epoch 134/500 Loss per sample: 116.5942 Recon Loss: 28.2808 KL Loss: 17.3224\n"
          ]
        },
        {
          "output_type": "stream",
          "name": "stderr",
          "text": []
        },
        {
          "output_type": "stream",
          "name": "stdout",
          "text": [
            "Epoch 135/500 Loss per sample: 116.7470 Recon Loss: 29.1915 KL Loss: 19.7154\n"
          ]
        },
        {
          "output_type": "stream",
          "name": "stderr",
          "text": []
        },
        {
          "output_type": "stream",
          "name": "stdout",
          "text": [
            "Epoch 136/500 Loss per sample: 116.7346 Recon Loss: 28.8977 KL Loss: 20.9808\n"
          ]
        },
        {
          "output_type": "stream",
          "name": "stderr",
          "text": []
        },
        {
          "output_type": "stream",
          "name": "stdout",
          "text": [
            "Epoch 137/500 Loss per sample: 116.6444 Recon Loss: 30.0555 KL Loss: 20.5197\n"
          ]
        },
        {
          "output_type": "stream",
          "name": "stderr",
          "text": []
        },
        {
          "output_type": "stream",
          "name": "stdout",
          "text": [
            "Epoch 138/500 Loss per sample: 116.4456 Recon Loss: 28.8918 KL Loss: 19.4502\n"
          ]
        },
        {
          "output_type": "stream",
          "name": "stderr",
          "text": []
        },
        {
          "output_type": "stream",
          "name": "stdout",
          "text": [
            "Epoch 139/500 Loss per sample: 116.5452 Recon Loss: 29.3907 KL Loss: 19.7779\n"
          ]
        },
        {
          "output_type": "stream",
          "name": "stderr",
          "text": []
        },
        {
          "output_type": "stream",
          "name": "stdout",
          "text": [
            "Epoch 140/500 Loss per sample: 116.5706 Recon Loss: 31.6654 KL Loss: 18.3228\n"
          ]
        },
        {
          "output_type": "stream",
          "name": "stderr",
          "text": []
        },
        {
          "output_type": "stream",
          "name": "stdout",
          "text": [
            "Epoch 141/500 Loss per sample: 116.4123 Recon Loss: 30.7057 KL Loss: 18.1871\n"
          ]
        },
        {
          "output_type": "stream",
          "name": "stderr",
          "text": []
        },
        {
          "output_type": "stream",
          "name": "stdout",
          "text": [
            "Epoch 142/500 Loss per sample: 116.4113 Recon Loss: 29.9176 KL Loss: 19.0532\n"
          ]
        },
        {
          "output_type": "stream",
          "name": "stderr",
          "text": []
        },
        {
          "output_type": "stream",
          "name": "stdout",
          "text": [
            "Epoch 143/500 Loss per sample: 116.5122 Recon Loss: 30.1371 KL Loss: 17.8901\n"
          ]
        },
        {
          "output_type": "stream",
          "name": "stderr",
          "text": []
        },
        {
          "output_type": "stream",
          "name": "stdout",
          "text": [
            "Epoch 144/500 Loss per sample: 116.4382 Recon Loss: 30.9419 KL Loss: 17.9717\n"
          ]
        },
        {
          "output_type": "stream",
          "name": "stderr",
          "text": []
        },
        {
          "output_type": "stream",
          "name": "stdout",
          "text": [
            "Epoch 145/500 Loss per sample: 116.3239 Recon Loss: 30.2222 KL Loss: 19.2651\n"
          ]
        },
        {
          "output_type": "stream",
          "name": "stderr",
          "text": []
        },
        {
          "output_type": "stream",
          "name": "stdout",
          "text": [
            "Epoch 146/500 Loss per sample: 116.3688 Recon Loss: 28.4906 KL Loss: 20.6996\n"
          ]
        },
        {
          "output_type": "stream",
          "name": "stderr",
          "text": []
        },
        {
          "output_type": "stream",
          "name": "stdout",
          "text": [
            "Epoch 147/500 Loss per sample: 116.1822 Recon Loss: 27.5725 KL Loss: 21.8761\n"
          ]
        },
        {
          "output_type": "stream",
          "name": "stderr",
          "text": []
        },
        {
          "output_type": "stream",
          "name": "stdout",
          "text": [
            "Epoch 148/500 Loss per sample: 116.2538 Recon Loss: 30.3591 KL Loss: 18.4049\n"
          ]
        },
        {
          "output_type": "stream",
          "name": "stderr",
          "text": []
        },
        {
          "output_type": "stream",
          "name": "stdout",
          "text": [
            "Epoch 149/500 Loss per sample: 116.2237 Recon Loss: 30.4571 KL Loss: 20.4635\n"
          ]
        },
        {
          "output_type": "stream",
          "name": "stderr",
          "text": []
        },
        {
          "output_type": "stream",
          "name": "stdout",
          "text": [
            "Epoch 150/500 Loss per sample: 116.0441 Recon Loss: 29.7232 KL Loss: 19.0459\n"
          ]
        },
        {
          "output_type": "stream",
          "name": "stderr",
          "text": []
        },
        {
          "output_type": "stream",
          "name": "stdout",
          "text": [
            "Epoch 151/500 Loss per sample: 116.1245 Recon Loss: 29.9506 KL Loss: 20.0401\n"
          ]
        },
        {
          "output_type": "stream",
          "name": "stderr",
          "text": []
        },
        {
          "output_type": "stream",
          "name": "stdout",
          "text": [
            "Epoch 152/500 Loss per sample: 115.9641 Recon Loss: 29.3942 KL Loss: 18.1867\n"
          ]
        },
        {
          "output_type": "stream",
          "name": "stderr",
          "text": []
        },
        {
          "output_type": "stream",
          "name": "stdout",
          "text": [
            "Epoch 153/500 Loss per sample: 116.2498 Recon Loss: 32.7172 KL Loss: 17.9911\n"
          ]
        },
        {
          "output_type": "stream",
          "name": "stderr",
          "text": []
        },
        {
          "output_type": "stream",
          "name": "stdout",
          "text": [
            "Epoch 154/500 Loss per sample: 116.0510 Recon Loss: 30.9079 KL Loss: 16.6589\n"
          ]
        },
        {
          "output_type": "stream",
          "name": "stderr",
          "text": []
        },
        {
          "output_type": "stream",
          "name": "stdout",
          "text": [
            "Epoch 155/500 Loss per sample: 115.9845 Recon Loss: 29.0975 KL Loss: 18.1803\n"
          ]
        },
        {
          "output_type": "stream",
          "name": "stderr",
          "text": []
        },
        {
          "output_type": "stream",
          "name": "stdout",
          "text": [
            "Epoch 156/500 Loss per sample: 116.1889 Recon Loss: 30.8725 KL Loss: 18.5991\n"
          ]
        },
        {
          "output_type": "stream",
          "name": "stderr",
          "text": []
        },
        {
          "output_type": "stream",
          "name": "stdout",
          "text": [
            "Epoch 157/500 Loss per sample: 115.9933 Recon Loss: 28.4951 KL Loss: 19.0311\n"
          ]
        },
        {
          "output_type": "stream",
          "name": "stderr",
          "text": []
        },
        {
          "output_type": "stream",
          "name": "stdout",
          "text": [
            "Epoch 158/500 Loss per sample: 115.8735 Recon Loss: 30.3729 KL Loss: 19.7916\n"
          ]
        },
        {
          "output_type": "stream",
          "name": "stderr",
          "text": []
        },
        {
          "output_type": "stream",
          "name": "stdout",
          "text": [
            "Epoch 159/500 Loss per sample: 115.9812 Recon Loss: 28.2050 KL Loss: 19.5075\n"
          ]
        },
        {
          "output_type": "stream",
          "name": "stderr",
          "text": []
        },
        {
          "output_type": "stream",
          "name": "stdout",
          "text": [
            "Epoch 160/500 Loss per sample: 115.8065 Recon Loss: 30.2275 KL Loss: 18.1926\n"
          ]
        },
        {
          "output_type": "stream",
          "name": "stderr",
          "text": []
        },
        {
          "output_type": "stream",
          "name": "stdout",
          "text": [
            "Epoch 161/500 Loss per sample: 115.9974 Recon Loss: 31.1672 KL Loss: 18.3436\n"
          ]
        },
        {
          "output_type": "stream",
          "name": "stderr",
          "text": []
        },
        {
          "output_type": "stream",
          "name": "stdout",
          "text": [
            "Epoch 162/500 Loss per sample: 115.7400 Recon Loss: 29.9956 KL Loss: 17.4667\n"
          ]
        },
        {
          "output_type": "stream",
          "name": "stderr",
          "text": []
        },
        {
          "output_type": "stream",
          "name": "stdout",
          "text": [
            "Epoch 163/500 Loss per sample: 115.8441 Recon Loss: 30.0372 KL Loss: 19.1221\n"
          ]
        },
        {
          "output_type": "stream",
          "name": "stderr",
          "text": []
        },
        {
          "output_type": "stream",
          "name": "stdout",
          "text": [
            "Epoch 164/500 Loss per sample: 115.6386 Recon Loss: 28.7361 KL Loss: 20.4602\n"
          ]
        },
        {
          "output_type": "stream",
          "name": "stderr",
          "text": []
        },
        {
          "output_type": "stream",
          "name": "stdout",
          "text": [
            "Epoch 165/500 Loss per sample: 115.8573 Recon Loss: 30.2147 KL Loss: 20.2766\n"
          ]
        },
        {
          "output_type": "stream",
          "name": "stderr",
          "text": []
        },
        {
          "output_type": "stream",
          "name": "stdout",
          "text": [
            "Epoch 166/500 Loss per sample: 115.6343 Recon Loss: 28.7168 KL Loss: 17.3321\n"
          ]
        },
        {
          "output_type": "stream",
          "name": "stderr",
          "text": []
        },
        {
          "output_type": "stream",
          "name": "stdout",
          "text": [
            "Epoch 167/500 Loss per sample: 115.6756 Recon Loss: 32.4986 KL Loss: 17.3003\n"
          ]
        },
        {
          "output_type": "stream",
          "name": "stderr",
          "text": []
        },
        {
          "output_type": "stream",
          "name": "stdout",
          "text": [
            "Epoch 168/500 Loss per sample: 115.6361 Recon Loss: 28.6102 KL Loss: 19.3737\n"
          ]
        },
        {
          "output_type": "stream",
          "name": "stderr",
          "text": []
        },
        {
          "output_type": "stream",
          "name": "stdout",
          "text": [
            "Epoch 169/500 Loss per sample: 115.6666 Recon Loss: 29.0675 KL Loss: 18.3270\n"
          ]
        },
        {
          "output_type": "stream",
          "name": "stderr",
          "text": []
        },
        {
          "output_type": "stream",
          "name": "stdout",
          "text": [
            "Epoch 170/500 Loss per sample: 115.6707 Recon Loss: 28.3976 KL Loss: 20.5928\n"
          ]
        },
        {
          "output_type": "stream",
          "name": "stderr",
          "text": []
        },
        {
          "output_type": "stream",
          "name": "stdout",
          "text": [
            "Epoch 171/500 Loss per sample: 115.6502 Recon Loss: 31.0190 KL Loss: 20.7375\n"
          ]
        },
        {
          "output_type": "stream",
          "name": "stderr",
          "text": []
        },
        {
          "output_type": "stream",
          "name": "stdout",
          "text": [
            "Epoch 172/500 Loss per sample: 115.4182 Recon Loss: 27.0554 KL Loss: 22.7257\n"
          ]
        },
        {
          "output_type": "stream",
          "name": "stderr",
          "text": []
        },
        {
          "output_type": "stream",
          "name": "stdout",
          "text": [
            "Epoch 173/500 Loss per sample: 115.4578 Recon Loss: 28.5953 KL Loss: 18.4621\n"
          ]
        },
        {
          "output_type": "stream",
          "name": "stderr",
          "text": []
        },
        {
          "output_type": "stream",
          "name": "stdout",
          "text": [
            "Epoch 174/500 Loss per sample: 115.4457 Recon Loss: 29.0477 KL Loss: 19.5956\n"
          ]
        },
        {
          "output_type": "stream",
          "name": "stderr",
          "text": []
        },
        {
          "output_type": "stream",
          "name": "stdout",
          "text": [
            "Epoch 175/500 Loss per sample: 115.6785 Recon Loss: 29.1569 KL Loss: 20.6679\n"
          ]
        },
        {
          "output_type": "stream",
          "name": "stderr",
          "text": []
        },
        {
          "output_type": "stream",
          "name": "stdout",
          "text": [
            "Epoch 176/500 Loss per sample: 115.3813 Recon Loss: 26.9709 KL Loss: 22.4669\n"
          ]
        },
        {
          "output_type": "stream",
          "name": "stderr",
          "text": []
        },
        {
          "output_type": "stream",
          "name": "stdout",
          "text": [
            "Epoch 177/500 Loss per sample: 115.4298 Recon Loss: 29.4046 KL Loss: 19.0378\n"
          ]
        },
        {
          "output_type": "stream",
          "name": "stderr",
          "text": []
        },
        {
          "output_type": "stream",
          "name": "stdout",
          "text": [
            "Epoch 178/500 Loss per sample: 115.4529 Recon Loss: 29.5889 KL Loss: 24.4905\n"
          ]
        },
        {
          "output_type": "stream",
          "name": "stderr",
          "text": []
        },
        {
          "output_type": "stream",
          "name": "stdout",
          "text": [
            "Epoch 179/500 Loss per sample: 115.4828 Recon Loss: 29.9325 KL Loss: 19.4816\n"
          ]
        },
        {
          "output_type": "stream",
          "name": "stderr",
          "text": []
        },
        {
          "output_type": "stream",
          "name": "stdout",
          "text": [
            "Epoch 180/500 Loss per sample: 115.2970 Recon Loss: 30.9750 KL Loss: 18.3550\n"
          ]
        },
        {
          "output_type": "stream",
          "name": "stderr",
          "text": []
        },
        {
          "output_type": "stream",
          "name": "stdout",
          "text": [
            "Epoch 181/500 Loss per sample: 115.3626 Recon Loss: 29.2089 KL Loss: 19.1453\n"
          ]
        },
        {
          "output_type": "stream",
          "name": "stderr",
          "text": []
        },
        {
          "output_type": "stream",
          "name": "stdout",
          "text": [
            "Epoch 182/500 Loss per sample: 115.3059 Recon Loss: 29.4555 KL Loss: 22.3023\n"
          ]
        },
        {
          "output_type": "stream",
          "name": "stderr",
          "text": []
        },
        {
          "output_type": "stream",
          "name": "stdout",
          "text": [
            "Epoch 183/500 Loss per sample: 115.2797 Recon Loss: 31.6980 KL Loss: 17.7444\n"
          ]
        },
        {
          "output_type": "stream",
          "name": "stderr",
          "text": []
        },
        {
          "output_type": "stream",
          "name": "stdout",
          "text": [
            "Epoch 184/500 Loss per sample: 115.1833 Recon Loss: 27.9955 KL Loss: 21.1181\n"
          ]
        },
        {
          "output_type": "stream",
          "name": "stderr",
          "text": []
        },
        {
          "output_type": "stream",
          "name": "stdout",
          "text": [
            "Epoch 185/500 Loss per sample: 115.2517 Recon Loss: 29.5817 KL Loss: 19.7844\n"
          ]
        },
        {
          "output_type": "stream",
          "name": "stderr",
          "text": []
        },
        {
          "output_type": "stream",
          "name": "stdout",
          "text": [
            "Epoch 186/500 Loss per sample: 115.2389 Recon Loss: 31.7785 KL Loss: 19.8054\n"
          ]
        },
        {
          "output_type": "stream",
          "name": "stderr",
          "text": []
        },
        {
          "output_type": "stream",
          "name": "stdout",
          "text": [
            "Epoch 187/500 Loss per sample: 115.2345 Recon Loss: 30.5252 KL Loss: 17.7473\n"
          ]
        },
        {
          "output_type": "stream",
          "name": "stderr",
          "text": []
        },
        {
          "output_type": "stream",
          "name": "stdout",
          "text": [
            "Epoch 188/500 Loss per sample: 115.2027 Recon Loss: 29.2206 KL Loss: 21.0022\n"
          ]
        },
        {
          "output_type": "stream",
          "name": "stderr",
          "text": []
        },
        {
          "output_type": "stream",
          "name": "stdout",
          "text": [
            "Epoch 189/500 Loss per sample: 115.2473 Recon Loss: 31.7781 KL Loss: 18.4297\n"
          ]
        },
        {
          "output_type": "stream",
          "name": "stderr",
          "text": []
        },
        {
          "output_type": "stream",
          "name": "stdout",
          "text": [
            "Epoch 190/500 Loss per sample: 115.1175 Recon Loss: 29.4090 KL Loss: 19.3083\n"
          ]
        },
        {
          "output_type": "stream",
          "name": "stderr",
          "text": []
        },
        {
          "output_type": "stream",
          "name": "stdout",
          "text": [
            "Epoch 191/500 Loss per sample: 115.0069 Recon Loss: 27.1974 KL Loss: 18.4671\n"
          ]
        },
        {
          "output_type": "stream",
          "name": "stderr",
          "text": []
        },
        {
          "output_type": "stream",
          "name": "stdout",
          "text": [
            "Epoch 192/500 Loss per sample: 115.1661 Recon Loss: 29.5781 KL Loss: 20.9292\n"
          ]
        },
        {
          "output_type": "stream",
          "name": "stderr",
          "text": []
        },
        {
          "output_type": "stream",
          "name": "stdout",
          "text": [
            "Epoch 193/500 Loss per sample: 115.2276 Recon Loss: 29.4170 KL Loss: 21.2186\n"
          ]
        },
        {
          "output_type": "stream",
          "name": "stderr",
          "text": []
        },
        {
          "output_type": "stream",
          "name": "stdout",
          "text": [
            "Epoch 194/500 Loss per sample: 115.3106 Recon Loss: 30.2719 KL Loss: 18.7821\n"
          ]
        },
        {
          "output_type": "stream",
          "name": "stderr",
          "text": []
        },
        {
          "output_type": "stream",
          "name": "stdout",
          "text": [
            "Epoch 195/500 Loss per sample: 115.1430 Recon Loss: 28.3472 KL Loss: 21.1096\n"
          ]
        },
        {
          "output_type": "stream",
          "name": "stderr",
          "text": []
        },
        {
          "output_type": "stream",
          "name": "stdout",
          "text": [
            "Epoch 196/500 Loss per sample: 115.0315 Recon Loss: 31.0389 KL Loss: 18.3840\n"
          ]
        },
        {
          "output_type": "stream",
          "name": "stderr",
          "text": []
        },
        {
          "output_type": "stream",
          "name": "stdout",
          "text": [
            "Epoch 197/500 Loss per sample: 115.1513 Recon Loss: 28.1691 KL Loss: 18.9845\n"
          ]
        },
        {
          "output_type": "stream",
          "name": "stderr",
          "text": []
        },
        {
          "output_type": "stream",
          "name": "stdout",
          "text": [
            "Epoch 198/500 Loss per sample: 114.8738 Recon Loss: 28.5122 KL Loss: 20.2452\n"
          ]
        },
        {
          "output_type": "stream",
          "name": "stderr",
          "text": []
        },
        {
          "output_type": "stream",
          "name": "stdout",
          "text": [
            "Epoch 199/500 Loss per sample: 114.8063 Recon Loss: 28.6897 KL Loss: 21.8607\n"
          ]
        },
        {
          "output_type": "stream",
          "name": "stderr",
          "text": []
        },
        {
          "output_type": "stream",
          "name": "stdout",
          "text": [
            "Epoch 200/500 Loss per sample: 114.9078 Recon Loss: 28.2098 KL Loss: 19.8893\n"
          ]
        },
        {
          "output_type": "stream",
          "name": "stderr",
          "text": []
        },
        {
          "output_type": "stream",
          "name": "stdout",
          "text": [
            "Epoch 201/500 Loss per sample: 115.0710 Recon Loss: 32.8576 KL Loss: 19.4092\n"
          ]
        },
        {
          "output_type": "stream",
          "name": "stderr",
          "text": []
        },
        {
          "output_type": "stream",
          "name": "stdout",
          "text": [
            "Epoch 202/500 Loss per sample: 115.0607 Recon Loss: 29.7921 KL Loss: 21.2864\n"
          ]
        },
        {
          "output_type": "stream",
          "name": "stderr",
          "text": []
        },
        {
          "output_type": "stream",
          "name": "stdout",
          "text": [
            "Epoch 203/500 Loss per sample: 114.9050 Recon Loss: 30.8279 KL Loss: 16.8319\n"
          ]
        },
        {
          "output_type": "stream",
          "name": "stderr",
          "text": []
        },
        {
          "output_type": "stream",
          "name": "stdout",
          "text": [
            "Epoch 204/500 Loss per sample: 114.7797 Recon Loss: 28.2423 KL Loss: 21.1177\n"
          ]
        },
        {
          "output_type": "stream",
          "name": "stderr",
          "text": []
        },
        {
          "output_type": "stream",
          "name": "stdout",
          "text": [
            "Epoch 205/500 Loss per sample: 114.9209 Recon Loss: 29.4048 KL Loss: 23.6233\n"
          ]
        },
        {
          "output_type": "stream",
          "name": "stderr",
          "text": []
        },
        {
          "output_type": "stream",
          "name": "stdout",
          "text": [
            "Epoch 206/500 Loss per sample: 114.9144 Recon Loss: 27.1169 KL Loss: 24.5226\n"
          ]
        },
        {
          "output_type": "stream",
          "name": "stderr",
          "text": []
        },
        {
          "output_type": "stream",
          "name": "stdout",
          "text": [
            "Epoch 207/500 Loss per sample: 114.8138 Recon Loss: 29.4320 KL Loss: 23.0894\n"
          ]
        },
        {
          "output_type": "stream",
          "name": "stderr",
          "text": []
        },
        {
          "output_type": "stream",
          "name": "stdout",
          "text": [
            "Epoch 208/500 Loss per sample: 114.8543 Recon Loss: 30.0810 KL Loss: 18.7406\n"
          ]
        },
        {
          "output_type": "stream",
          "name": "stderr",
          "text": []
        },
        {
          "output_type": "stream",
          "name": "stdout",
          "text": [
            "Epoch 209/500 Loss per sample: 114.7462 Recon Loss: 28.8930 KL Loss: 19.5758\n"
          ]
        },
        {
          "output_type": "stream",
          "name": "stderr",
          "text": []
        },
        {
          "output_type": "stream",
          "name": "stdout",
          "text": [
            "Epoch 210/500 Loss per sample: 114.8336 Recon Loss: 29.1458 KL Loss: 17.6455\n"
          ]
        },
        {
          "output_type": "stream",
          "name": "stderr",
          "text": []
        },
        {
          "output_type": "stream",
          "name": "stdout",
          "text": [
            "Epoch 211/500 Loss per sample: 114.8068 Recon Loss: 28.7252 KL Loss: 21.1169\n"
          ]
        },
        {
          "output_type": "stream",
          "name": "stderr",
          "text": []
        },
        {
          "output_type": "stream",
          "name": "stdout",
          "text": [
            "Epoch 212/500 Loss per sample: 114.7624 Recon Loss: 28.2330 KL Loss: 21.3079\n"
          ]
        },
        {
          "output_type": "stream",
          "name": "stderr",
          "text": []
        },
        {
          "output_type": "stream",
          "name": "stdout",
          "text": [
            "Epoch 213/500 Loss per sample: 114.8143 Recon Loss: 30.0921 KL Loss: 22.4945\n"
          ]
        },
        {
          "output_type": "stream",
          "name": "stderr",
          "text": []
        },
        {
          "output_type": "stream",
          "name": "stdout",
          "text": [
            "Epoch 214/500 Loss per sample: 114.7490 Recon Loss: 29.3905 KL Loss: 20.4553\n"
          ]
        },
        {
          "output_type": "stream",
          "name": "stderr",
          "text": []
        },
        {
          "output_type": "stream",
          "name": "stdout",
          "text": [
            "Epoch 215/500 Loss per sample: 114.7842 Recon Loss: 29.0586 KL Loss: 21.0389\n"
          ]
        },
        {
          "output_type": "stream",
          "name": "stderr",
          "text": []
        },
        {
          "output_type": "stream",
          "name": "stdout",
          "text": [
            "Epoch 216/500 Loss per sample: 114.7314 Recon Loss: 29.1981 KL Loss: 20.5876\n"
          ]
        },
        {
          "output_type": "stream",
          "name": "stderr",
          "text": []
        },
        {
          "output_type": "stream",
          "name": "stdout",
          "text": [
            "Epoch 217/500 Loss per sample: 114.5670 Recon Loss: 29.0101 KL Loss: 21.9567\n"
          ]
        },
        {
          "output_type": "stream",
          "name": "stderr",
          "text": []
        },
        {
          "output_type": "stream",
          "name": "stdout",
          "text": [
            "Epoch 218/500 Loss per sample: 114.5458 Recon Loss: 28.3414 KL Loss: 20.6177\n"
          ]
        },
        {
          "output_type": "stream",
          "name": "stderr",
          "text": []
        },
        {
          "output_type": "stream",
          "name": "stdout",
          "text": [
            "Epoch 219/500 Loss per sample: 114.6017 Recon Loss: 31.7666 KL Loss: 18.3634\n"
          ]
        },
        {
          "output_type": "stream",
          "name": "stderr",
          "text": []
        },
        {
          "output_type": "stream",
          "name": "stdout",
          "text": [
            "Epoch 220/500 Loss per sample: 114.5844 Recon Loss: 31.1823 KL Loss: 20.1033\n"
          ]
        },
        {
          "output_type": "stream",
          "name": "stderr",
          "text": []
        },
        {
          "output_type": "stream",
          "name": "stdout",
          "text": [
            "Epoch 221/500 Loss per sample: 114.7027 Recon Loss: 30.2354 KL Loss: 19.7179\n"
          ]
        },
        {
          "output_type": "stream",
          "name": "stderr",
          "text": []
        },
        {
          "output_type": "stream",
          "name": "stdout",
          "text": [
            "Epoch 222/500 Loss per sample: 114.5670 Recon Loss: 29.4993 KL Loss: 19.7052\n"
          ]
        },
        {
          "output_type": "stream",
          "name": "stderr",
          "text": []
        },
        {
          "output_type": "stream",
          "name": "stdout",
          "text": [
            "Epoch 223/500 Loss per sample: 114.4683 Recon Loss: 26.1942 KL Loss: 22.3489\n"
          ]
        },
        {
          "output_type": "stream",
          "name": "stderr",
          "text": []
        },
        {
          "output_type": "stream",
          "name": "stdout",
          "text": [
            "Epoch 224/500 Loss per sample: 114.6058 Recon Loss: 27.8288 KL Loss: 22.3080\n"
          ]
        },
        {
          "output_type": "stream",
          "name": "stderr",
          "text": []
        },
        {
          "output_type": "stream",
          "name": "stdout",
          "text": [
            "Epoch 225/500 Loss per sample: 114.6262 Recon Loss: 28.9823 KL Loss: 19.2109\n"
          ]
        },
        {
          "output_type": "stream",
          "name": "stderr",
          "text": []
        },
        {
          "output_type": "stream",
          "name": "stdout",
          "text": [
            "Epoch 226/500 Loss per sample: 114.5298 Recon Loss: 28.9139 KL Loss: 20.0176\n"
          ]
        },
        {
          "output_type": "stream",
          "name": "stderr",
          "text": []
        },
        {
          "output_type": "stream",
          "name": "stdout",
          "text": [
            "Epoch 227/500 Loss per sample: 114.5574 Recon Loss: 30.0276 KL Loss: 21.6538\n"
          ]
        },
        {
          "output_type": "stream",
          "name": "stderr",
          "text": []
        },
        {
          "output_type": "stream",
          "name": "stdout",
          "text": [
            "Epoch 228/500 Loss per sample: 114.5252 Recon Loss: 29.1241 KL Loss: 19.3675\n"
          ]
        },
        {
          "output_type": "stream",
          "name": "stderr",
          "text": []
        },
        {
          "output_type": "stream",
          "name": "stdout",
          "text": [
            "Epoch 229/500 Loss per sample: 114.4765 Recon Loss: 29.0542 KL Loss: 19.4253\n"
          ]
        },
        {
          "output_type": "stream",
          "name": "stderr",
          "text": []
        },
        {
          "output_type": "stream",
          "name": "stdout",
          "text": [
            "Epoch 230/500 Loss per sample: 114.5380 Recon Loss: 27.4116 KL Loss: 22.5677\n"
          ]
        },
        {
          "output_type": "stream",
          "name": "stderr",
          "text": []
        },
        {
          "output_type": "stream",
          "name": "stdout",
          "text": [
            "Epoch 231/500 Loss per sample: 114.3886 Recon Loss: 30.5980 KL Loss: 18.3040\n"
          ]
        },
        {
          "output_type": "stream",
          "name": "stderr",
          "text": []
        },
        {
          "output_type": "stream",
          "name": "stdout",
          "text": [
            "Epoch 232/500 Loss per sample: 114.4825 Recon Loss: 29.4184 KL Loss: 18.9388\n"
          ]
        },
        {
          "output_type": "stream",
          "name": "stderr",
          "text": []
        },
        {
          "output_type": "stream",
          "name": "stdout",
          "text": [
            "Epoch 233/500 Loss per sample: 114.2763 Recon Loss: 29.4951 KL Loss: 21.3168\n"
          ]
        },
        {
          "output_type": "stream",
          "name": "stderr",
          "text": []
        },
        {
          "output_type": "stream",
          "name": "stdout",
          "text": [
            "Epoch 234/500 Loss per sample: 114.5413 Recon Loss: 32.0129 KL Loss: 20.3396\n"
          ]
        },
        {
          "output_type": "stream",
          "name": "stderr",
          "text": []
        },
        {
          "output_type": "stream",
          "name": "stdout",
          "text": [
            "Epoch 235/500 Loss per sample: 114.3741 Recon Loss: 30.3056 KL Loss: 19.1813\n"
          ]
        },
        {
          "output_type": "stream",
          "name": "stderr",
          "text": []
        },
        {
          "output_type": "stream",
          "name": "stdout",
          "text": [
            "Epoch 236/500 Loss per sample: 114.2121 Recon Loss: 27.2081 KL Loss: 22.6175\n"
          ]
        },
        {
          "output_type": "stream",
          "name": "stderr",
          "text": []
        },
        {
          "output_type": "stream",
          "name": "stdout",
          "text": [
            "Epoch 237/500 Loss per sample: 114.4524 Recon Loss: 30.0699 KL Loss: 23.1845\n"
          ]
        },
        {
          "output_type": "stream",
          "name": "stderr",
          "text": []
        },
        {
          "output_type": "stream",
          "name": "stdout",
          "text": [
            "Epoch 238/500 Loss per sample: 114.3187 Recon Loss: 29.4407 KL Loss: 18.9675\n"
          ]
        },
        {
          "output_type": "stream",
          "name": "stderr",
          "text": []
        },
        {
          "output_type": "stream",
          "name": "stdout",
          "text": [
            "Epoch 239/500 Loss per sample: 114.3141 Recon Loss: 28.3986 KL Loss: 22.5475\n"
          ]
        },
        {
          "output_type": "stream",
          "name": "stderr",
          "text": []
        },
        {
          "output_type": "stream",
          "name": "stdout",
          "text": [
            "Epoch 240/500 Loss per sample: 114.2327 Recon Loss: 27.9210 KL Loss: 20.1980\n"
          ]
        },
        {
          "output_type": "stream",
          "name": "stderr",
          "text": []
        },
        {
          "output_type": "stream",
          "name": "stdout",
          "text": [
            "Epoch 241/500 Loss per sample: 114.2023 Recon Loss: 27.1930 KL Loss: 21.3784\n"
          ]
        },
        {
          "output_type": "stream",
          "name": "stderr",
          "text": []
        },
        {
          "output_type": "stream",
          "name": "stdout",
          "text": [
            "Epoch 242/500 Loss per sample: 114.3476 Recon Loss: 31.1833 KL Loss: 19.9568\n"
          ]
        },
        {
          "output_type": "stream",
          "name": "stderr",
          "text": []
        },
        {
          "output_type": "stream",
          "name": "stdout",
          "text": [
            "Epoch 243/500 Loss per sample: 114.1763 Recon Loss: 26.9070 KL Loss: 23.8489\n"
          ]
        },
        {
          "output_type": "stream",
          "name": "stderr",
          "text": []
        },
        {
          "output_type": "stream",
          "name": "stdout",
          "text": [
            "Epoch 244/500 Loss per sample: 114.2433 Recon Loss: 28.9847 KL Loss: 21.6358\n"
          ]
        },
        {
          "output_type": "stream",
          "name": "stderr",
          "text": []
        },
        {
          "output_type": "stream",
          "name": "stdout",
          "text": [
            "Epoch 245/500 Loss per sample: 114.1735 Recon Loss: 29.9702 KL Loss: 21.1869\n"
          ]
        },
        {
          "output_type": "stream",
          "name": "stderr",
          "text": []
        },
        {
          "output_type": "stream",
          "name": "stdout",
          "text": [
            "Epoch 246/500 Loss per sample: 114.3948 Recon Loss: 30.5228 KL Loss: 22.2443\n"
          ]
        },
        {
          "output_type": "stream",
          "name": "stderr",
          "text": []
        },
        {
          "output_type": "stream",
          "name": "stdout",
          "text": [
            "Epoch 247/500 Loss per sample: 114.3183 Recon Loss: 28.7008 KL Loss: 20.7595\n"
          ]
        },
        {
          "output_type": "stream",
          "name": "stderr",
          "text": []
        },
        {
          "output_type": "stream",
          "name": "stdout",
          "text": [
            "Epoch 248/500 Loss per sample: 114.0948 Recon Loss: 30.3442 KL Loss: 20.1364\n"
          ]
        },
        {
          "output_type": "stream",
          "name": "stderr",
          "text": []
        },
        {
          "output_type": "stream",
          "name": "stdout",
          "text": [
            "Epoch 249/500 Loss per sample: 113.9933 Recon Loss: 28.9042 KL Loss: 22.5743\n"
          ]
        },
        {
          "output_type": "stream",
          "name": "stderr",
          "text": []
        },
        {
          "output_type": "stream",
          "name": "stdout",
          "text": [
            "Epoch 250/500 Loss per sample: 114.1837 Recon Loss: 32.9820 KL Loss: 18.7381\n"
          ]
        },
        {
          "output_type": "stream",
          "name": "stderr",
          "text": []
        },
        {
          "output_type": "stream",
          "name": "stdout",
          "text": [
            "Epoch 251/500 Loss per sample: 114.0388 Recon Loss: 29.4729 KL Loss: 19.0071\n"
          ]
        },
        {
          "output_type": "stream",
          "name": "stderr",
          "text": []
        },
        {
          "output_type": "stream",
          "name": "stdout",
          "text": [
            "Epoch 252/500 Loss per sample: 114.0624 Recon Loss: 30.1087 KL Loss: 22.2306\n"
          ]
        },
        {
          "output_type": "stream",
          "name": "stderr",
          "text": []
        },
        {
          "output_type": "stream",
          "name": "stdout",
          "text": [
            "Epoch 253/500 Loss per sample: 114.0686 Recon Loss: 28.5777 KL Loss: 22.5917\n"
          ]
        },
        {
          "output_type": "stream",
          "name": "stderr",
          "text": []
        },
        {
          "output_type": "stream",
          "name": "stdout",
          "text": [
            "Epoch 254/500 Loss per sample: 114.1734 Recon Loss: 29.3440 KL Loss: 22.2066\n"
          ]
        },
        {
          "output_type": "stream",
          "name": "stderr",
          "text": []
        },
        {
          "output_type": "stream",
          "name": "stdout",
          "text": [
            "Epoch 255/500 Loss per sample: 114.1990 Recon Loss: 28.4045 KL Loss: 24.2197\n"
          ]
        },
        {
          "output_type": "stream",
          "name": "stderr",
          "text": []
        },
        {
          "output_type": "stream",
          "name": "stdout",
          "text": [
            "Epoch 256/500 Loss per sample: 114.0551 Recon Loss: 29.8068 KL Loss: 21.7753\n"
          ]
        },
        {
          "output_type": "stream",
          "name": "stderr",
          "text": []
        },
        {
          "output_type": "stream",
          "name": "stdout",
          "text": [
            "Epoch 257/500 Loss per sample: 114.0661 Recon Loss: 29.2816 KL Loss: 21.8286\n"
          ]
        },
        {
          "output_type": "stream",
          "name": "stderr",
          "text": []
        },
        {
          "output_type": "stream",
          "name": "stdout",
          "text": [
            "Epoch 258/500 Loss per sample: 114.1109 Recon Loss: 29.3143 KL Loss: 21.8963\n"
          ]
        },
        {
          "output_type": "stream",
          "name": "stderr",
          "text": []
        },
        {
          "output_type": "stream",
          "name": "stdout",
          "text": [
            "Epoch 259/500 Loss per sample: 114.0166 Recon Loss: 31.8195 KL Loss: 21.4185\n"
          ]
        },
        {
          "output_type": "stream",
          "name": "stderr",
          "text": []
        },
        {
          "output_type": "stream",
          "name": "stdout",
          "text": [
            "Epoch 260/500 Loss per sample: 113.9862 Recon Loss: 28.9672 KL Loss: 23.7948\n"
          ]
        },
        {
          "output_type": "stream",
          "name": "stderr",
          "text": []
        },
        {
          "output_type": "stream",
          "name": "stdout",
          "text": [
            "Epoch 261/500 Loss per sample: 114.0425 Recon Loss: 27.9070 KL Loss: 20.6664\n"
          ]
        },
        {
          "output_type": "stream",
          "name": "stderr",
          "text": []
        },
        {
          "output_type": "stream",
          "name": "stdout",
          "text": [
            "Epoch 262/500 Loss per sample: 113.9132 Recon Loss: 29.9302 KL Loss: 22.2223\n"
          ]
        },
        {
          "output_type": "stream",
          "name": "stderr",
          "text": []
        },
        {
          "output_type": "stream",
          "name": "stdout",
          "text": [
            "Epoch 263/500 Loss per sample: 113.8508 Recon Loss: 30.2235 KL Loss: 22.7454\n"
          ]
        },
        {
          "output_type": "stream",
          "name": "stderr",
          "text": []
        },
        {
          "output_type": "stream",
          "name": "stdout",
          "text": [
            "Epoch 264/500 Loss per sample: 113.8782 Recon Loss: 28.4257 KL Loss: 21.0492\n"
          ]
        },
        {
          "output_type": "stream",
          "name": "stderr",
          "text": []
        },
        {
          "output_type": "stream",
          "name": "stdout",
          "text": [
            "Epoch 265/500 Loss per sample: 114.0234 Recon Loss: 29.5109 KL Loss: 18.8096\n"
          ]
        },
        {
          "output_type": "stream",
          "name": "stderr",
          "text": []
        },
        {
          "output_type": "stream",
          "name": "stdout",
          "text": [
            "Epoch 266/500 Loss per sample: 113.9240 Recon Loss: 28.5816 KL Loss: 23.1980\n"
          ]
        },
        {
          "output_type": "stream",
          "name": "stderr",
          "text": []
        },
        {
          "output_type": "stream",
          "name": "stdout",
          "text": [
            "Epoch 267/500 Loss per sample: 113.8748 Recon Loss: 28.3610 KL Loss: 22.7885\n"
          ]
        },
        {
          "output_type": "stream",
          "name": "stderr",
          "text": []
        },
        {
          "output_type": "stream",
          "name": "stdout",
          "text": [
            "Epoch 268/500 Loss per sample: 113.9325 Recon Loss: 30.2701 KL Loss: 24.5061\n"
          ]
        },
        {
          "output_type": "stream",
          "name": "stderr",
          "text": []
        },
        {
          "output_type": "stream",
          "name": "stdout",
          "text": [
            "Epoch 269/500 Loss per sample: 113.8720 Recon Loss: 28.2649 KL Loss: 26.1636\n"
          ]
        },
        {
          "output_type": "stream",
          "name": "stderr",
          "text": []
        },
        {
          "output_type": "stream",
          "name": "stdout",
          "text": [
            "Epoch 270/500 Loss per sample: 113.8268 Recon Loss: 28.3278 KL Loss: 22.7487\n"
          ]
        },
        {
          "output_type": "stream",
          "name": "stderr",
          "text": []
        },
        {
          "output_type": "stream",
          "name": "stdout",
          "text": [
            "Epoch 271/500 Loss per sample: 113.9640 Recon Loss: 28.5573 KL Loss: 22.7744\n"
          ]
        },
        {
          "output_type": "stream",
          "name": "stderr",
          "text": []
        },
        {
          "output_type": "stream",
          "name": "stdout",
          "text": [
            "Epoch 272/500 Loss per sample: 113.8284 Recon Loss: 26.5992 KL Loss: 22.3298\n"
          ]
        },
        {
          "output_type": "stream",
          "name": "stderr",
          "text": []
        },
        {
          "output_type": "stream",
          "name": "stdout",
          "text": [
            "Epoch 273/500 Loss per sample: 113.7885 Recon Loss: 28.9702 KL Loss: 21.6032\n"
          ]
        },
        {
          "output_type": "stream",
          "name": "stderr",
          "text": []
        },
        {
          "output_type": "stream",
          "name": "stdout",
          "text": [
            "Epoch 274/500 Loss per sample: 113.9386 Recon Loss: 29.3036 KL Loss: 25.0026\n"
          ]
        },
        {
          "output_type": "stream",
          "name": "stderr",
          "text": []
        },
        {
          "output_type": "stream",
          "name": "stdout",
          "text": [
            "Epoch 275/500 Loss per sample: 113.8700 Recon Loss: 28.5657 KL Loss: 25.1553\n"
          ]
        },
        {
          "output_type": "stream",
          "name": "stderr",
          "text": []
        },
        {
          "output_type": "stream",
          "name": "stdout",
          "text": [
            "Epoch 276/500 Loss per sample: 113.8526 Recon Loss: 28.1206 KL Loss: 21.0038\n"
          ]
        },
        {
          "output_type": "stream",
          "name": "stderr",
          "text": []
        },
        {
          "output_type": "stream",
          "name": "stdout",
          "text": [
            "Epoch 277/500 Loss per sample: 113.8152 Recon Loss: 28.8716 KL Loss: 20.2971\n"
          ]
        },
        {
          "output_type": "stream",
          "name": "stderr",
          "text": []
        },
        {
          "output_type": "stream",
          "name": "stdout",
          "text": [
            "Epoch 278/500 Loss per sample: 113.7147 Recon Loss: 27.8657 KL Loss: 20.4715\n"
          ]
        },
        {
          "output_type": "stream",
          "name": "stderr",
          "text": []
        },
        {
          "output_type": "stream",
          "name": "stdout",
          "text": [
            "Epoch 279/500 Loss per sample: 113.7048 Recon Loss: 28.4860 KL Loss: 21.3086\n"
          ]
        },
        {
          "output_type": "stream",
          "name": "stderr",
          "text": []
        },
        {
          "output_type": "stream",
          "name": "stdout",
          "text": [
            "Epoch 280/500 Loss per sample: 113.7563 Recon Loss: 28.0253 KL Loss: 21.0383\n"
          ]
        },
        {
          "output_type": "stream",
          "name": "stderr",
          "text": []
        },
        {
          "output_type": "stream",
          "name": "stdout",
          "text": [
            "Epoch 281/500 Loss per sample: 113.7440 Recon Loss: 28.6021 KL Loss: 21.9005\n"
          ]
        },
        {
          "output_type": "stream",
          "name": "stderr",
          "text": []
        },
        {
          "output_type": "stream",
          "name": "stdout",
          "text": [
            "Epoch 282/500 Loss per sample: 113.7712 Recon Loss: 30.5052 KL Loss: 20.5634\n"
          ]
        },
        {
          "output_type": "stream",
          "name": "stderr",
          "text": []
        },
        {
          "output_type": "stream",
          "name": "stdout",
          "text": [
            "Epoch 283/500 Loss per sample: 113.6843 Recon Loss: 31.2808 KL Loss: 18.8444\n"
          ]
        },
        {
          "output_type": "stream",
          "name": "stderr",
          "text": []
        },
        {
          "output_type": "stream",
          "name": "stdout",
          "text": [
            "Epoch 284/500 Loss per sample: 113.7016 Recon Loss: 28.1343 KL Loss: 22.7505\n"
          ]
        },
        {
          "output_type": "stream",
          "name": "stderr",
          "text": []
        },
        {
          "output_type": "stream",
          "name": "stdout",
          "text": [
            "Epoch 285/500 Loss per sample: 113.7945 Recon Loss: 27.6601 KL Loss: 23.9865\n"
          ]
        },
        {
          "output_type": "stream",
          "name": "stderr",
          "text": []
        },
        {
          "output_type": "stream",
          "name": "stdout",
          "text": [
            "Epoch 286/500 Loss per sample: 113.6732 Recon Loss: 30.1265 KL Loss: 22.4447\n"
          ]
        },
        {
          "output_type": "stream",
          "name": "stderr",
          "text": []
        },
        {
          "output_type": "stream",
          "name": "stdout",
          "text": [
            "Epoch 287/500 Loss per sample: 113.5985 Recon Loss: 27.4489 KL Loss: 21.7992\n"
          ]
        },
        {
          "output_type": "stream",
          "name": "stderr",
          "text": []
        },
        {
          "output_type": "stream",
          "name": "stdout",
          "text": [
            "Epoch 288/500 Loss per sample: 113.6236 Recon Loss: 29.5432 KL Loss: 22.0179\n"
          ]
        },
        {
          "output_type": "stream",
          "name": "stderr",
          "text": []
        },
        {
          "output_type": "stream",
          "name": "stdout",
          "text": [
            "Epoch 289/500 Loss per sample: 113.5959 Recon Loss: 27.9395 KL Loss: 23.0481\n"
          ]
        },
        {
          "output_type": "stream",
          "name": "stderr",
          "text": []
        },
        {
          "output_type": "stream",
          "name": "stdout",
          "text": [
            "Epoch 290/500 Loss per sample: 113.6711 Recon Loss: 28.0914 KL Loss: 21.5669\n"
          ]
        },
        {
          "output_type": "stream",
          "name": "stderr",
          "text": []
        },
        {
          "output_type": "stream",
          "name": "stdout",
          "text": [
            "Epoch 291/500 Loss per sample: 113.6386 Recon Loss: 27.8441 KL Loss: 24.4072\n"
          ]
        },
        {
          "output_type": "stream",
          "name": "stderr",
          "text": []
        },
        {
          "output_type": "stream",
          "name": "stdout",
          "text": [
            "Epoch 292/500 Loss per sample: 113.6257 Recon Loss: 28.9805 KL Loss: 23.0463\n"
          ]
        },
        {
          "output_type": "stream",
          "name": "stderr",
          "text": []
        },
        {
          "output_type": "stream",
          "name": "stdout",
          "text": [
            "Epoch 293/500 Loss per sample: 113.8563 Recon Loss: 29.4070 KL Loss: 22.3866\n"
          ]
        },
        {
          "output_type": "stream",
          "name": "stderr",
          "text": []
        },
        {
          "output_type": "stream",
          "name": "stdout",
          "text": [
            "Epoch 294/500 Loss per sample: 113.6800 Recon Loss: 28.2994 KL Loss: 20.2029\n"
          ]
        },
        {
          "output_type": "stream",
          "name": "stderr",
          "text": []
        },
        {
          "output_type": "stream",
          "name": "stdout",
          "text": [
            "Epoch 295/500 Loss per sample: 113.6630 Recon Loss: 28.1856 KL Loss: 22.4135\n"
          ]
        },
        {
          "output_type": "stream",
          "name": "stderr",
          "text": []
        },
        {
          "output_type": "stream",
          "name": "stdout",
          "text": [
            "Epoch 296/500 Loss per sample: 113.4619 Recon Loss: 29.4541 KL Loss: 22.4778\n"
          ]
        },
        {
          "output_type": "stream",
          "name": "stderr",
          "text": []
        },
        {
          "output_type": "stream",
          "name": "stdout",
          "text": [
            "Epoch 297/500 Loss per sample: 113.4199 Recon Loss: 27.8994 KL Loss: 23.0276\n"
          ]
        },
        {
          "output_type": "stream",
          "name": "stderr",
          "text": []
        },
        {
          "output_type": "stream",
          "name": "stdout",
          "text": [
            "Epoch 298/500 Loss per sample: 113.5659 Recon Loss: 27.8393 KL Loss: 23.5065\n"
          ]
        },
        {
          "output_type": "stream",
          "name": "stderr",
          "text": []
        },
        {
          "output_type": "stream",
          "name": "stdout",
          "text": [
            "Epoch 299/500 Loss per sample: 113.5353 Recon Loss: 28.2313 KL Loss: 23.0587\n"
          ]
        },
        {
          "output_type": "stream",
          "name": "stderr",
          "text": []
        },
        {
          "output_type": "stream",
          "name": "stdout",
          "text": [
            "Epoch 300/500 Loss per sample: 113.8120 Recon Loss: 30.8126 KL Loss: 19.2796\n"
          ]
        },
        {
          "output_type": "stream",
          "name": "stderr",
          "text": []
        },
        {
          "output_type": "stream",
          "name": "stdout",
          "text": [
            "Epoch 301/500 Loss per sample: 113.4079 Recon Loss: 28.2055 KL Loss: 25.3331\n"
          ]
        },
        {
          "output_type": "stream",
          "name": "stderr",
          "text": []
        },
        {
          "output_type": "stream",
          "name": "stdout",
          "text": [
            "Epoch 302/500 Loss per sample: 113.5046 Recon Loss: 28.3233 KL Loss: 20.6602\n"
          ]
        },
        {
          "output_type": "stream",
          "name": "stderr",
          "text": []
        },
        {
          "output_type": "stream",
          "name": "stdout",
          "text": [
            "Epoch 303/500 Loss per sample: 113.6744 Recon Loss: 29.9517 KL Loss: 22.0972\n"
          ]
        },
        {
          "output_type": "stream",
          "name": "stderr",
          "text": []
        },
        {
          "output_type": "stream",
          "name": "stdout",
          "text": [
            "Epoch 304/500 Loss per sample: 113.5734 Recon Loss: 27.1351 KL Loss: 24.2312\n"
          ]
        },
        {
          "output_type": "stream",
          "name": "stderr",
          "text": []
        },
        {
          "output_type": "stream",
          "name": "stdout",
          "text": [
            "Epoch 305/500 Loss per sample: 113.4396 Recon Loss: 28.0138 KL Loss: 24.5259\n"
          ]
        },
        {
          "output_type": "stream",
          "name": "stderr",
          "text": []
        },
        {
          "output_type": "stream",
          "name": "stdout",
          "text": [
            "Epoch 306/500 Loss per sample: 113.4745 Recon Loss: 27.5708 KL Loss: 27.0763\n"
          ]
        },
        {
          "output_type": "stream",
          "name": "stderr",
          "text": []
        },
        {
          "output_type": "stream",
          "name": "stdout",
          "text": [
            "Epoch 307/500 Loss per sample: 113.6238 Recon Loss: 28.6395 KL Loss: 19.1569\n"
          ]
        },
        {
          "output_type": "stream",
          "name": "stderr",
          "text": []
        },
        {
          "output_type": "stream",
          "name": "stdout",
          "text": [
            "Epoch 308/500 Loss per sample: 113.4571 Recon Loss: 27.5231 KL Loss: 25.8376\n"
          ]
        },
        {
          "output_type": "stream",
          "name": "stderr",
          "text": []
        },
        {
          "output_type": "stream",
          "name": "stdout",
          "text": [
            "Epoch 309/500 Loss per sample: 113.3810 Recon Loss: 27.4705 KL Loss: 22.7254\n"
          ]
        },
        {
          "output_type": "stream",
          "name": "stderr",
          "text": []
        },
        {
          "output_type": "stream",
          "name": "stdout",
          "text": [
            "Epoch 310/500 Loss per sample: 113.4137 Recon Loss: 29.8362 KL Loss: 23.0429\n"
          ]
        },
        {
          "output_type": "stream",
          "name": "stderr",
          "text": []
        },
        {
          "output_type": "stream",
          "name": "stdout",
          "text": [
            "Epoch 311/500 Loss per sample: 113.2985 Recon Loss: 29.6118 KL Loss: 19.1621\n"
          ]
        },
        {
          "output_type": "stream",
          "name": "stderr",
          "text": []
        },
        {
          "output_type": "stream",
          "name": "stdout",
          "text": [
            "Epoch 312/500 Loss per sample: 113.3721 Recon Loss: 31.6509 KL Loss: 19.8536\n"
          ]
        },
        {
          "output_type": "stream",
          "name": "stderr",
          "text": []
        },
        {
          "output_type": "stream",
          "name": "stdout",
          "text": [
            "Epoch 313/500 Loss per sample: 113.3841 Recon Loss: 29.5652 KL Loss: 22.1984\n"
          ]
        },
        {
          "output_type": "stream",
          "name": "stderr",
          "text": []
        },
        {
          "output_type": "stream",
          "name": "stdout",
          "text": [
            "Epoch 314/500 Loss per sample: 113.4646 Recon Loss: 27.9687 KL Loss: 23.3118\n"
          ]
        },
        {
          "output_type": "stream",
          "name": "stderr",
          "text": []
        },
        {
          "output_type": "stream",
          "name": "stdout",
          "text": [
            "Epoch 315/500 Loss per sample: 113.4747 Recon Loss: 27.7391 KL Loss: 24.1115\n"
          ]
        },
        {
          "output_type": "stream",
          "name": "stderr",
          "text": []
        },
        {
          "output_type": "stream",
          "name": "stdout",
          "text": [
            "Epoch 316/500 Loss per sample: 113.1584 Recon Loss: 27.3065 KL Loss: 24.3056\n"
          ]
        },
        {
          "output_type": "stream",
          "name": "stderr",
          "text": []
        },
        {
          "output_type": "stream",
          "name": "stdout",
          "text": [
            "Epoch 317/500 Loss per sample: 113.3592 Recon Loss: 30.2061 KL Loss: 20.7641\n"
          ]
        },
        {
          "output_type": "stream",
          "name": "stderr",
          "text": []
        },
        {
          "output_type": "stream",
          "name": "stdout",
          "text": [
            "Epoch 318/500 Loss per sample: 113.4391 Recon Loss: 27.7727 KL Loss: 26.5409\n"
          ]
        },
        {
          "output_type": "stream",
          "name": "stderr",
          "text": []
        },
        {
          "output_type": "stream",
          "name": "stdout",
          "text": [
            "Epoch 319/500 Loss per sample: 113.2264 Recon Loss: 30.1550 KL Loss: 21.5779\n"
          ]
        },
        {
          "output_type": "stream",
          "name": "stderr",
          "text": []
        },
        {
          "output_type": "stream",
          "name": "stdout",
          "text": [
            "Epoch 320/500 Loss per sample: 113.2316 Recon Loss: 29.3003 KL Loss: 23.4549\n"
          ]
        },
        {
          "output_type": "stream",
          "name": "stderr",
          "text": []
        },
        {
          "output_type": "stream",
          "name": "stdout",
          "text": [
            "Epoch 321/500 Loss per sample: 113.3911 Recon Loss: 31.1751 KL Loss: 22.8673\n"
          ]
        },
        {
          "output_type": "stream",
          "name": "stderr",
          "text": []
        },
        {
          "output_type": "stream",
          "name": "stdout",
          "text": [
            "Epoch 322/500 Loss per sample: 113.2825 Recon Loss: 29.7760 KL Loss: 22.4905\n"
          ]
        },
        {
          "output_type": "stream",
          "name": "stderr",
          "text": []
        },
        {
          "output_type": "stream",
          "name": "stdout",
          "text": [
            "Epoch 323/500 Loss per sample: 113.2387 Recon Loss: 29.1484 KL Loss: 22.1124\n"
          ]
        },
        {
          "output_type": "stream",
          "name": "stderr",
          "text": []
        },
        {
          "output_type": "stream",
          "name": "stdout",
          "text": [
            "Epoch 324/500 Loss per sample: 113.2543 Recon Loss: 29.2459 KL Loss: 22.2869\n"
          ]
        },
        {
          "output_type": "stream",
          "name": "stderr",
          "text": []
        },
        {
          "output_type": "stream",
          "name": "stdout",
          "text": [
            "Epoch 325/500 Loss per sample: 113.3759 Recon Loss: 30.4130 KL Loss: 20.3382\n"
          ]
        },
        {
          "output_type": "stream",
          "name": "stderr",
          "text": []
        },
        {
          "output_type": "stream",
          "name": "stdout",
          "text": [
            "Epoch 326/500 Loss per sample: 113.3348 Recon Loss: 29.3251 KL Loss: 22.9303\n"
          ]
        },
        {
          "output_type": "stream",
          "name": "stderr",
          "text": []
        },
        {
          "output_type": "stream",
          "name": "stdout",
          "text": [
            "Epoch 327/500 Loss per sample: 113.3369 Recon Loss: 28.4776 KL Loss: 22.1540\n"
          ]
        },
        {
          "output_type": "stream",
          "name": "stderr",
          "text": []
        },
        {
          "output_type": "stream",
          "name": "stdout",
          "text": [
            "Epoch 328/500 Loss per sample: 113.1893 Recon Loss: 29.7687 KL Loss: 21.8587\n"
          ]
        },
        {
          "output_type": "stream",
          "name": "stderr",
          "text": []
        },
        {
          "output_type": "stream",
          "name": "stdout",
          "text": [
            "Epoch 329/500 Loss per sample: 113.1901 Recon Loss: 26.3954 KL Loss: 27.1102\n"
          ]
        },
        {
          "output_type": "stream",
          "name": "stderr",
          "text": []
        },
        {
          "output_type": "stream",
          "name": "stdout",
          "text": [
            "Epoch 330/500 Loss per sample: 113.2283 Recon Loss: 29.7985 KL Loss: 21.8150\n"
          ]
        },
        {
          "output_type": "stream",
          "name": "stderr",
          "text": []
        },
        {
          "output_type": "stream",
          "name": "stdout",
          "text": [
            "Epoch 331/500 Loss per sample: 113.3605 Recon Loss: 27.1257 KL Loss: 25.5516\n"
          ]
        },
        {
          "output_type": "stream",
          "name": "stderr",
          "text": []
        },
        {
          "output_type": "stream",
          "name": "stdout",
          "text": [
            "Epoch 332/500 Loss per sample: 113.0601 Recon Loss: 27.0858 KL Loss: 25.4034\n"
          ]
        },
        {
          "output_type": "stream",
          "name": "stderr",
          "text": []
        },
        {
          "output_type": "stream",
          "name": "stdout",
          "text": [
            "Epoch 333/500 Loss per sample: 113.1942 Recon Loss: 28.2495 KL Loss: 21.3299\n"
          ]
        },
        {
          "output_type": "stream",
          "name": "stderr",
          "text": []
        },
        {
          "output_type": "stream",
          "name": "stdout",
          "text": [
            "Epoch 334/500 Loss per sample: 113.2185 Recon Loss: 28.8692 KL Loss: 23.4913\n"
          ]
        },
        {
          "output_type": "stream",
          "name": "stderr",
          "text": []
        },
        {
          "output_type": "stream",
          "name": "stdout",
          "text": [
            "Epoch 335/500 Loss per sample: 113.1341 Recon Loss: 29.9694 KL Loss: 21.4277\n"
          ]
        },
        {
          "output_type": "stream",
          "name": "stderr",
          "text": []
        },
        {
          "output_type": "stream",
          "name": "stdout",
          "text": [
            "Epoch 336/500 Loss per sample: 113.1350 Recon Loss: 28.8942 KL Loss: 22.1443\n"
          ]
        },
        {
          "output_type": "stream",
          "name": "stderr",
          "text": []
        },
        {
          "output_type": "stream",
          "name": "stdout",
          "text": [
            "Epoch 337/500 Loss per sample: 113.2167 Recon Loss: 29.1715 KL Loss: 22.1822\n"
          ]
        },
        {
          "output_type": "stream",
          "name": "stderr",
          "text": []
        },
        {
          "output_type": "stream",
          "name": "stdout",
          "text": [
            "Epoch 338/500 Loss per sample: 113.3063 Recon Loss: 28.4811 KL Loss: 22.8397\n"
          ]
        },
        {
          "output_type": "stream",
          "name": "stderr",
          "text": []
        },
        {
          "output_type": "stream",
          "name": "stdout",
          "text": [
            "Epoch 339/500 Loss per sample: 113.1514 Recon Loss: 30.1788 KL Loss: 21.7077\n"
          ]
        },
        {
          "output_type": "stream",
          "name": "stderr",
          "text": []
        },
        {
          "output_type": "stream",
          "name": "stdout",
          "text": [
            "Epoch 340/500 Loss per sample: 113.1233 Recon Loss: 28.8577 KL Loss: 22.6973\n"
          ]
        },
        {
          "output_type": "stream",
          "name": "stderr",
          "text": []
        },
        {
          "output_type": "stream",
          "name": "stdout",
          "text": [
            "Epoch 341/500 Loss per sample: 112.9647 Recon Loss: 26.8092 KL Loss: 26.4856\n"
          ]
        },
        {
          "output_type": "stream",
          "name": "stderr",
          "text": []
        },
        {
          "output_type": "stream",
          "name": "stdout",
          "text": [
            "Epoch 342/500 Loss per sample: 113.1555 Recon Loss: 29.5037 KL Loss: 21.4394\n"
          ]
        },
        {
          "output_type": "stream",
          "name": "stderr",
          "text": []
        },
        {
          "output_type": "stream",
          "name": "stdout",
          "text": [
            "Epoch 343/500 Loss per sample: 113.1540 Recon Loss: 29.2360 KL Loss: 21.6018\n"
          ]
        },
        {
          "output_type": "stream",
          "name": "stderr",
          "text": []
        },
        {
          "output_type": "stream",
          "name": "stdout",
          "text": [
            "Epoch 344/500 Loss per sample: 113.1570 Recon Loss: 29.9667 KL Loss: 22.5826\n"
          ]
        },
        {
          "output_type": "stream",
          "name": "stderr",
          "text": []
        },
        {
          "output_type": "stream",
          "name": "stdout",
          "text": [
            "Epoch 345/500 Loss per sample: 113.2818 Recon Loss: 28.3083 KL Loss: 21.7563\n"
          ]
        },
        {
          "output_type": "stream",
          "name": "stderr",
          "text": []
        },
        {
          "output_type": "stream",
          "name": "stdout",
          "text": [
            "Epoch 346/500 Loss per sample: 113.0209 Recon Loss: 30.5700 KL Loss: 21.4263\n"
          ]
        },
        {
          "output_type": "stream",
          "name": "stderr",
          "text": []
        },
        {
          "output_type": "stream",
          "name": "stdout",
          "text": [
            "Epoch 347/500 Loss per sample: 112.9996 Recon Loss: 29.3121 KL Loss: 21.6266\n"
          ]
        },
        {
          "output_type": "stream",
          "name": "stderr",
          "text": []
        },
        {
          "output_type": "stream",
          "name": "stdout",
          "text": [
            "Epoch 348/500 Loss per sample: 113.0661 Recon Loss: 28.0862 KL Loss: 25.1017\n"
          ]
        },
        {
          "output_type": "stream",
          "name": "stderr",
          "text": []
        },
        {
          "output_type": "stream",
          "name": "stdout",
          "text": [
            "Epoch 349/500 Loss per sample: 113.0393 Recon Loss: 28.6165 KL Loss: 23.9581\n"
          ]
        },
        {
          "output_type": "stream",
          "name": "stderr",
          "text": []
        },
        {
          "output_type": "stream",
          "name": "stdout",
          "text": [
            "Epoch 350/500 Loss per sample: 113.0385 Recon Loss: 31.9880 KL Loss: 24.3771\n"
          ]
        },
        {
          "output_type": "stream",
          "name": "stderr",
          "text": []
        },
        {
          "output_type": "stream",
          "name": "stdout",
          "text": [
            "Epoch 351/500 Loss per sample: 113.0294 Recon Loss: 29.5790 KL Loss: 21.7574\n"
          ]
        },
        {
          "output_type": "stream",
          "name": "stderr",
          "text": []
        },
        {
          "output_type": "stream",
          "name": "stdout",
          "text": [
            "Epoch 352/500 Loss per sample: 113.2350 Recon Loss: 27.1449 KL Loss: 26.1978\n"
          ]
        },
        {
          "output_type": "stream",
          "name": "stderr",
          "text": []
        },
        {
          "output_type": "stream",
          "name": "stdout",
          "text": [
            "Epoch 353/500 Loss per sample: 113.1523 Recon Loss: 27.9433 KL Loss: 24.4373\n"
          ]
        },
        {
          "output_type": "stream",
          "name": "stderr",
          "text": []
        },
        {
          "output_type": "stream",
          "name": "stdout",
          "text": [
            "Epoch 354/500 Loss per sample: 113.0265 Recon Loss: 29.0292 KL Loss: 22.0898\n"
          ]
        },
        {
          "output_type": "stream",
          "name": "stderr",
          "text": []
        },
        {
          "output_type": "stream",
          "name": "stdout",
          "text": [
            "Epoch 355/500 Loss per sample: 113.0597 Recon Loss: 28.7208 KL Loss: 20.7077\n"
          ]
        },
        {
          "output_type": "stream",
          "name": "stderr",
          "text": []
        },
        {
          "output_type": "stream",
          "name": "stdout",
          "text": [
            "Epoch 356/500 Loss per sample: 113.1339 Recon Loss: 28.3579 KL Loss: 19.6389\n"
          ]
        },
        {
          "output_type": "stream",
          "name": "stderr",
          "text": []
        },
        {
          "output_type": "stream",
          "name": "stdout",
          "text": [
            "Epoch 357/500 Loss per sample: 112.9574 Recon Loss: 29.0103 KL Loss: 20.0894\n"
          ]
        },
        {
          "output_type": "stream",
          "name": "stderr",
          "text": []
        },
        {
          "output_type": "stream",
          "name": "stdout",
          "text": [
            "Epoch 358/500 Loss per sample: 112.9983 Recon Loss: 29.1195 KL Loss: 22.0630\n"
          ]
        },
        {
          "output_type": "stream",
          "name": "stderr",
          "text": []
        },
        {
          "output_type": "stream",
          "name": "stdout",
          "text": [
            "Epoch 359/500 Loss per sample: 112.8985 Recon Loss: 28.1741 KL Loss: 24.6237\n"
          ]
        },
        {
          "output_type": "stream",
          "name": "stderr",
          "text": []
        },
        {
          "output_type": "stream",
          "name": "stdout",
          "text": [
            "Epoch 360/500 Loss per sample: 112.9790 Recon Loss: 26.9642 KL Loss: 26.6156\n"
          ]
        },
        {
          "output_type": "stream",
          "name": "stderr",
          "text": []
        },
        {
          "output_type": "stream",
          "name": "stdout",
          "text": [
            "Epoch 361/500 Loss per sample: 112.8779 Recon Loss: 26.9170 KL Loss: 23.4153\n"
          ]
        },
        {
          "output_type": "stream",
          "name": "stderr",
          "text": []
        },
        {
          "output_type": "stream",
          "name": "stdout",
          "text": [
            "Epoch 362/500 Loss per sample: 113.0140 Recon Loss: 30.4519 KL Loss: 22.4003\n"
          ]
        },
        {
          "output_type": "stream",
          "name": "stderr",
          "text": []
        },
        {
          "output_type": "stream",
          "name": "stdout",
          "text": [
            "Epoch 363/500 Loss per sample: 112.9709 Recon Loss: 30.1390 KL Loss: 22.6244\n"
          ]
        },
        {
          "output_type": "stream",
          "name": "stderr",
          "text": []
        },
        {
          "output_type": "stream",
          "name": "stdout",
          "text": [
            "Epoch 364/500 Loss per sample: 112.9132 Recon Loss: 29.4034 KL Loss: 21.2534\n"
          ]
        },
        {
          "output_type": "stream",
          "name": "stderr",
          "text": []
        },
        {
          "output_type": "stream",
          "name": "stdout",
          "text": [
            "Epoch 365/500 Loss per sample: 112.8608 Recon Loss: 29.1661 KL Loss: 22.4073\n"
          ]
        },
        {
          "output_type": "stream",
          "name": "stderr",
          "text": []
        },
        {
          "output_type": "stream",
          "name": "stdout",
          "text": [
            "Epoch 366/500 Loss per sample: 112.8698 Recon Loss: 31.5666 KL Loss: 22.4072\n"
          ]
        },
        {
          "output_type": "stream",
          "name": "stderr",
          "text": []
        },
        {
          "output_type": "stream",
          "name": "stdout",
          "text": [
            "Epoch 367/500 Loss per sample: 112.8454 Recon Loss: 28.9093 KL Loss: 23.8376\n"
          ]
        },
        {
          "output_type": "stream",
          "name": "stderr",
          "text": []
        },
        {
          "output_type": "stream",
          "name": "stdout",
          "text": [
            "Epoch 368/500 Loss per sample: 112.7874 Recon Loss: 28.5477 KL Loss: 23.3902\n"
          ]
        },
        {
          "output_type": "stream",
          "name": "stderr",
          "text": []
        },
        {
          "output_type": "stream",
          "name": "stdout",
          "text": [
            "Epoch 369/500 Loss per sample: 112.8500 Recon Loss: 25.7282 KL Loss: 26.9309\n"
          ]
        },
        {
          "output_type": "stream",
          "name": "stderr",
          "text": []
        },
        {
          "output_type": "stream",
          "name": "stdout",
          "text": [
            "Epoch 370/500 Loss per sample: 112.9542 Recon Loss: 27.3612 KL Loss: 26.0912\n"
          ]
        },
        {
          "output_type": "stream",
          "name": "stderr",
          "text": []
        },
        {
          "output_type": "stream",
          "name": "stdout",
          "text": [
            "Epoch 371/500 Loss per sample: 112.9028 Recon Loss: 30.1036 KL Loss: 23.3593\n"
          ]
        },
        {
          "output_type": "stream",
          "name": "stderr",
          "text": []
        },
        {
          "output_type": "stream",
          "name": "stdout",
          "text": [
            "Epoch 372/500 Loss per sample: 112.8591 Recon Loss: 27.3853 KL Loss: 25.8190\n"
          ]
        },
        {
          "output_type": "stream",
          "name": "stderr",
          "text": []
        },
        {
          "output_type": "stream",
          "name": "stdout",
          "text": [
            "Epoch 373/500 Loss per sample: 112.8297 Recon Loss: 31.6774 KL Loss: 24.4302\n"
          ]
        },
        {
          "output_type": "stream",
          "name": "stderr",
          "text": []
        },
        {
          "output_type": "stream",
          "name": "stdout",
          "text": [
            "Epoch 374/500 Loss per sample: 112.9739 Recon Loss: 30.2781 KL Loss: 21.2087\n"
          ]
        },
        {
          "output_type": "stream",
          "name": "stderr",
          "text": []
        },
        {
          "output_type": "stream",
          "name": "stdout",
          "text": [
            "Epoch 375/500 Loss per sample: 112.9107 Recon Loss: 30.7012 KL Loss: 23.8802\n"
          ]
        },
        {
          "output_type": "stream",
          "name": "stderr",
          "text": []
        },
        {
          "output_type": "stream",
          "name": "stdout",
          "text": [
            "Epoch 376/500 Loss per sample: 112.8287 Recon Loss: 30.1755 KL Loss: 22.4284\n"
          ]
        },
        {
          "output_type": "stream",
          "name": "stderr",
          "text": []
        },
        {
          "output_type": "stream",
          "name": "stdout",
          "text": [
            "Epoch 377/500 Loss per sample: 112.9484 Recon Loss: 29.0770 KL Loss: 22.5187\n"
          ]
        },
        {
          "output_type": "stream",
          "name": "stderr",
          "text": []
        },
        {
          "output_type": "stream",
          "name": "stdout",
          "text": [
            "Epoch 378/500 Loss per sample: 112.9232 Recon Loss: 29.8267 KL Loss: 23.9281\n"
          ]
        },
        {
          "output_type": "stream",
          "name": "stderr",
          "text": []
        },
        {
          "output_type": "stream",
          "name": "stdout",
          "text": [
            "Epoch 379/500 Loss per sample: 112.8999 Recon Loss: 27.8337 KL Loss: 24.4535\n"
          ]
        },
        {
          "output_type": "stream",
          "name": "stderr",
          "text": []
        },
        {
          "output_type": "stream",
          "name": "stdout",
          "text": [
            "Epoch 380/500 Loss per sample: 112.7753 Recon Loss: 27.3900 KL Loss: 27.9172\n"
          ]
        },
        {
          "output_type": "stream",
          "name": "stderr",
          "text": []
        },
        {
          "output_type": "stream",
          "name": "stdout",
          "text": [
            "Epoch 381/500 Loss per sample: 112.7104 Recon Loss: 26.2173 KL Loss: 23.7022\n"
          ]
        },
        {
          "output_type": "stream",
          "name": "stderr",
          "text": []
        },
        {
          "output_type": "stream",
          "name": "stdout",
          "text": [
            "Epoch 382/500 Loss per sample: 112.7256 Recon Loss: 28.3435 KL Loss: 22.6690\n"
          ]
        },
        {
          "output_type": "stream",
          "name": "stderr",
          "text": []
        },
        {
          "output_type": "stream",
          "name": "stdout",
          "text": [
            "Epoch 383/500 Loss per sample: 112.8074 Recon Loss: 27.6250 KL Loss: 23.1434\n"
          ]
        },
        {
          "output_type": "stream",
          "name": "stderr",
          "text": []
        },
        {
          "output_type": "stream",
          "name": "stdout",
          "text": [
            "Epoch 384/500 Loss per sample: 112.6528 Recon Loss: 28.8503 KL Loss: 19.8409\n"
          ]
        },
        {
          "output_type": "stream",
          "name": "stderr",
          "text": []
        },
        {
          "output_type": "stream",
          "name": "stdout",
          "text": [
            "Epoch 385/500 Loss per sample: 112.6746 Recon Loss: 29.5729 KL Loss: 25.2556\n"
          ]
        },
        {
          "output_type": "stream",
          "name": "stderr",
          "text": []
        },
        {
          "output_type": "stream",
          "name": "stdout",
          "text": [
            "Epoch 386/500 Loss per sample: 112.7543 Recon Loss: 29.2787 KL Loss: 26.9169\n"
          ]
        },
        {
          "output_type": "stream",
          "name": "stderr",
          "text": []
        },
        {
          "output_type": "stream",
          "name": "stdout",
          "text": [
            "Epoch 387/500 Loss per sample: 112.7053 Recon Loss: 29.0474 KL Loss: 26.3514\n"
          ]
        },
        {
          "output_type": "stream",
          "name": "stderr",
          "text": []
        },
        {
          "output_type": "stream",
          "name": "stdout",
          "text": [
            "Epoch 388/500 Loss per sample: 112.8664 Recon Loss: 29.4407 KL Loss: 23.9702\n"
          ]
        },
        {
          "output_type": "stream",
          "name": "stderr",
          "text": []
        },
        {
          "output_type": "stream",
          "name": "stdout",
          "text": [
            "Epoch 389/500 Loss per sample: 112.6729 Recon Loss: 29.1135 KL Loss: 22.3934\n"
          ]
        },
        {
          "output_type": "stream",
          "name": "stderr",
          "text": []
        },
        {
          "output_type": "stream",
          "name": "stdout",
          "text": [
            "Epoch 390/500 Loss per sample: 112.7965 Recon Loss: 28.8186 KL Loss: 24.8806\n"
          ]
        },
        {
          "output_type": "stream",
          "name": "stderr",
          "text": []
        },
        {
          "output_type": "stream",
          "name": "stdout",
          "text": [
            "Epoch 391/500 Loss per sample: 112.6722 Recon Loss: 29.9156 KL Loss: 23.2266\n"
          ]
        },
        {
          "output_type": "stream",
          "name": "stderr",
          "text": []
        },
        {
          "output_type": "stream",
          "name": "stdout",
          "text": [
            "Epoch 392/500 Loss per sample: 112.6066 Recon Loss: 29.1166 KL Loss: 23.2987\n"
          ]
        },
        {
          "output_type": "stream",
          "name": "stderr",
          "text": []
        },
        {
          "output_type": "stream",
          "name": "stdout",
          "text": [
            "Epoch 393/500 Loss per sample: 112.6850 Recon Loss: 27.6540 KL Loss: 27.9398\n"
          ]
        },
        {
          "output_type": "stream",
          "name": "stderr",
          "text": []
        },
        {
          "output_type": "stream",
          "name": "stdout",
          "text": [
            "Epoch 394/500 Loss per sample: 112.6129 Recon Loss: 29.1115 KL Loss: 23.2808\n"
          ]
        },
        {
          "output_type": "stream",
          "name": "stderr",
          "text": []
        },
        {
          "output_type": "stream",
          "name": "stdout",
          "text": [
            "Epoch 395/500 Loss per sample: 112.8152 Recon Loss: 31.5161 KL Loss: 21.7284\n"
          ]
        },
        {
          "output_type": "stream",
          "name": "stderr",
          "text": []
        },
        {
          "output_type": "stream",
          "name": "stdout",
          "text": [
            "Epoch 396/500 Loss per sample: 112.7469 Recon Loss: 31.0445 KL Loss: 22.9738\n"
          ]
        },
        {
          "output_type": "stream",
          "name": "stderr",
          "text": []
        },
        {
          "output_type": "stream",
          "name": "stdout",
          "text": [
            "Epoch 397/500 Loss per sample: 112.7204 Recon Loss: 29.6071 KL Loss: 27.1039\n"
          ]
        },
        {
          "output_type": "stream",
          "name": "stderr",
          "text": []
        },
        {
          "output_type": "stream",
          "name": "stdout",
          "text": [
            "Epoch 398/500 Loss per sample: 112.8215 Recon Loss: 26.9894 KL Loss: 25.0336\n"
          ]
        },
        {
          "output_type": "stream",
          "name": "stderr",
          "text": []
        },
        {
          "output_type": "stream",
          "name": "stdout",
          "text": [
            "Epoch 399/500 Loss per sample: 112.6432 Recon Loss: 28.4074 KL Loss: 22.9030\n"
          ]
        },
        {
          "output_type": "stream",
          "name": "stderr",
          "text": []
        },
        {
          "output_type": "stream",
          "name": "stdout",
          "text": [
            "Epoch 400/500 Loss per sample: 112.6976 Recon Loss: 27.2547 KL Loss: 22.4561\n"
          ]
        },
        {
          "output_type": "stream",
          "name": "stderr",
          "text": []
        },
        {
          "output_type": "stream",
          "name": "stdout",
          "text": [
            "Epoch 401/500 Loss per sample: 112.7894 Recon Loss: 27.7329 KL Loss: 26.6613\n"
          ]
        },
        {
          "output_type": "stream",
          "name": "stderr",
          "text": []
        },
        {
          "output_type": "stream",
          "name": "stdout",
          "text": [
            "Epoch 402/500 Loss per sample: 112.6166 Recon Loss: 26.7044 KL Loss: 22.8042\n"
          ]
        },
        {
          "output_type": "stream",
          "name": "stderr",
          "text": []
        },
        {
          "output_type": "stream",
          "name": "stdout",
          "text": [
            "Epoch 403/500 Loss per sample: 112.5913 Recon Loss: 30.0225 KL Loss: 23.9203\n"
          ]
        },
        {
          "output_type": "stream",
          "name": "stderr",
          "text": []
        },
        {
          "output_type": "stream",
          "name": "stdout",
          "text": [
            "Epoch 404/500 Loss per sample: 112.5856 Recon Loss: 29.8437 KL Loss: 21.3260\n"
          ]
        },
        {
          "output_type": "stream",
          "name": "stderr",
          "text": []
        },
        {
          "output_type": "stream",
          "name": "stdout",
          "text": [
            "Epoch 405/500 Loss per sample: 112.5144 Recon Loss: 28.5920 KL Loss: 23.5618\n"
          ]
        },
        {
          "output_type": "stream",
          "name": "stderr",
          "text": []
        },
        {
          "output_type": "stream",
          "name": "stdout",
          "text": [
            "Epoch 406/500 Loss per sample: 112.4803 Recon Loss: 29.0028 KL Loss: 25.5840\n"
          ]
        },
        {
          "output_type": "stream",
          "name": "stderr",
          "text": []
        },
        {
          "output_type": "stream",
          "name": "stdout",
          "text": [
            "Epoch 407/500 Loss per sample: 112.5699 Recon Loss: 28.0429 KL Loss: 26.1217\n"
          ]
        },
        {
          "output_type": "stream",
          "name": "stderr",
          "text": []
        },
        {
          "output_type": "stream",
          "name": "stdout",
          "text": [
            "Epoch 408/500 Loss per sample: 112.6633 Recon Loss: 30.4104 KL Loss: 23.6801\n"
          ]
        },
        {
          "output_type": "stream",
          "name": "stderr",
          "text": []
        },
        {
          "output_type": "stream",
          "name": "stdout",
          "text": [
            "Epoch 409/500 Loss per sample: 112.4831 Recon Loss: 30.7185 KL Loss: 22.9884\n"
          ]
        },
        {
          "output_type": "stream",
          "name": "stderr",
          "text": []
        },
        {
          "output_type": "stream",
          "name": "stdout",
          "text": [
            "Epoch 410/500 Loss per sample: 112.6763 Recon Loss: 28.4629 KL Loss: 24.8791\n"
          ]
        },
        {
          "output_type": "stream",
          "name": "stderr",
          "text": []
        },
        {
          "output_type": "stream",
          "name": "stdout",
          "text": [
            "Epoch 411/500 Loss per sample: 112.5945 Recon Loss: 30.5606 KL Loss: 24.4093\n"
          ]
        },
        {
          "output_type": "stream",
          "name": "stderr",
          "text": []
        },
        {
          "output_type": "stream",
          "name": "stdout",
          "text": [
            "Epoch 412/500 Loss per sample: 112.5432 Recon Loss: 31.2118 KL Loss: 19.4155\n"
          ]
        },
        {
          "output_type": "stream",
          "name": "stderr",
          "text": []
        },
        {
          "output_type": "stream",
          "name": "stdout",
          "text": [
            "Epoch 413/500 Loss per sample: 112.6371 Recon Loss: 28.4947 KL Loss: 26.4146\n"
          ]
        },
        {
          "output_type": "stream",
          "name": "stderr",
          "text": []
        },
        {
          "output_type": "stream",
          "name": "stdout",
          "text": [
            "Epoch 414/500 Loss per sample: 112.6300 Recon Loss: 28.6411 KL Loss: 22.0034\n"
          ]
        },
        {
          "output_type": "stream",
          "name": "stderr",
          "text": []
        },
        {
          "output_type": "stream",
          "name": "stdout",
          "text": [
            "Epoch 415/500 Loss per sample: 112.5619 Recon Loss: 28.8779 KL Loss: 24.1902\n"
          ]
        },
        {
          "output_type": "stream",
          "name": "stderr",
          "text": []
        },
        {
          "output_type": "stream",
          "name": "stdout",
          "text": [
            "Epoch 416/500 Loss per sample: 112.3833 Recon Loss: 28.2708 KL Loss: 27.7588\n"
          ]
        },
        {
          "output_type": "stream",
          "name": "stderr",
          "text": []
        },
        {
          "output_type": "stream",
          "name": "stdout",
          "text": [
            "Epoch 417/500 Loss per sample: 112.5967 Recon Loss: 28.5356 KL Loss: 29.1475\n"
          ]
        },
        {
          "output_type": "stream",
          "name": "stderr",
          "text": []
        },
        {
          "output_type": "stream",
          "name": "stdout",
          "text": [
            "Epoch 418/500 Loss per sample: 112.4091 Recon Loss: 31.3405 KL Loss: 21.7892\n"
          ]
        },
        {
          "output_type": "stream",
          "name": "stderr",
          "text": []
        },
        {
          "output_type": "stream",
          "name": "stdout",
          "text": [
            "Epoch 419/500 Loss per sample: 112.5089 Recon Loss: 31.1270 KL Loss: 24.2972\n"
          ]
        },
        {
          "output_type": "stream",
          "name": "stderr",
          "text": []
        },
        {
          "output_type": "stream",
          "name": "stdout",
          "text": [
            "Epoch 420/500 Loss per sample: 112.5526 Recon Loss: 29.6418 KL Loss: 24.4496\n"
          ]
        },
        {
          "output_type": "stream",
          "name": "stderr",
          "text": []
        },
        {
          "output_type": "stream",
          "name": "stdout",
          "text": [
            "Epoch 421/500 Loss per sample: 112.5689 Recon Loss: 30.5429 KL Loss: 22.6051\n"
          ]
        },
        {
          "output_type": "stream",
          "name": "stderr",
          "text": []
        },
        {
          "output_type": "stream",
          "name": "stdout",
          "text": [
            "Epoch 422/500 Loss per sample: 112.4494 Recon Loss: 30.3387 KL Loss: 23.8162\n"
          ]
        },
        {
          "output_type": "stream",
          "name": "stderr",
          "text": []
        },
        {
          "output_type": "stream",
          "name": "stdout",
          "text": [
            "Epoch 423/500 Loss per sample: 112.4869 Recon Loss: 31.1361 KL Loss: 24.5126\n"
          ]
        },
        {
          "output_type": "stream",
          "name": "stderr",
          "text": []
        },
        {
          "output_type": "stream",
          "name": "stdout",
          "text": [
            "Epoch 424/500 Loss per sample: 112.5131 Recon Loss: 27.1686 KL Loss: 29.7389\n"
          ]
        },
        {
          "output_type": "stream",
          "name": "stderr",
          "text": []
        },
        {
          "output_type": "stream",
          "name": "stdout",
          "text": [
            "Epoch 425/500 Loss per sample: 112.4053 Recon Loss: 29.9770 KL Loss: 25.5908\n"
          ]
        },
        {
          "output_type": "stream",
          "name": "stderr",
          "text": []
        },
        {
          "output_type": "stream",
          "name": "stdout",
          "text": [
            "Epoch 426/500 Loss per sample: 112.3657 Recon Loss: 26.4085 KL Loss: 28.1014\n"
          ]
        },
        {
          "output_type": "stream",
          "name": "stderr",
          "text": []
        },
        {
          "output_type": "stream",
          "name": "stdout",
          "text": [
            "Epoch 427/500 Loss per sample: 112.4382 Recon Loss: 27.5435 KL Loss: 25.1371\n"
          ]
        },
        {
          "output_type": "stream",
          "name": "stderr",
          "text": []
        },
        {
          "output_type": "stream",
          "name": "stdout",
          "text": [
            "Epoch 428/500 Loss per sample: 112.4638 Recon Loss: 31.0568 KL Loss: 23.3151\n"
          ]
        },
        {
          "output_type": "stream",
          "name": "stderr",
          "text": []
        },
        {
          "output_type": "stream",
          "name": "stdout",
          "text": [
            "Epoch 429/500 Loss per sample: 112.4694 Recon Loss: 28.5782 KL Loss: 24.4575\n"
          ]
        },
        {
          "output_type": "stream",
          "name": "stderr",
          "text": []
        },
        {
          "output_type": "stream",
          "name": "stdout",
          "text": [
            "Epoch 430/500 Loss per sample: 112.3988 Recon Loss: 30.1929 KL Loss: 23.2473\n"
          ]
        },
        {
          "output_type": "stream",
          "name": "stderr",
          "text": []
        },
        {
          "output_type": "stream",
          "name": "stdout",
          "text": [
            "Epoch 431/500 Loss per sample: 112.3942 Recon Loss: 28.9699 KL Loss: 26.9843\n"
          ]
        },
        {
          "output_type": "stream",
          "name": "stderr",
          "text": []
        },
        {
          "output_type": "stream",
          "name": "stdout",
          "text": [
            "Epoch 432/500 Loss per sample: 112.4223 Recon Loss: 27.0509 KL Loss: 22.9782\n"
          ]
        },
        {
          "output_type": "stream",
          "name": "stderr",
          "text": []
        },
        {
          "output_type": "stream",
          "name": "stdout",
          "text": [
            "Epoch 433/500 Loss per sample: 112.5965 Recon Loss: 30.1465 KL Loss: 25.4608\n"
          ]
        },
        {
          "output_type": "stream",
          "name": "stderr",
          "text": []
        },
        {
          "output_type": "stream",
          "name": "stdout",
          "text": [
            "Epoch 434/500 Loss per sample: 112.4571 Recon Loss: 26.3344 KL Loss: 31.2586\n"
          ]
        },
        {
          "output_type": "stream",
          "name": "stderr",
          "text": []
        },
        {
          "output_type": "stream",
          "name": "stdout",
          "text": [
            "Epoch 435/500 Loss per sample: 112.2906 Recon Loss: 29.0589 KL Loss: 25.0865\n"
          ]
        },
        {
          "output_type": "stream",
          "name": "stderr",
          "text": []
        },
        {
          "output_type": "stream",
          "name": "stdout",
          "text": [
            "Epoch 436/500 Loss per sample: 112.4846 Recon Loss: 28.9990 KL Loss: 25.3630\n"
          ]
        },
        {
          "output_type": "stream",
          "name": "stderr",
          "text": []
        },
        {
          "output_type": "stream",
          "name": "stdout",
          "text": [
            "Epoch 437/500 Loss per sample: 112.4028 Recon Loss: 27.6287 KL Loss: 24.9151\n"
          ]
        },
        {
          "output_type": "stream",
          "name": "stderr",
          "text": []
        },
        {
          "output_type": "stream",
          "name": "stdout",
          "text": [
            "Epoch 438/500 Loss per sample: 112.4355 Recon Loss: 27.5508 KL Loss: 24.5724\n"
          ]
        },
        {
          "output_type": "stream",
          "name": "stderr",
          "text": []
        },
        {
          "output_type": "stream",
          "name": "stdout",
          "text": [
            "Epoch 439/500 Loss per sample: 112.5421 Recon Loss: 27.2999 KL Loss: 28.3596\n"
          ]
        },
        {
          "output_type": "stream",
          "name": "stderr",
          "text": []
        },
        {
          "output_type": "stream",
          "name": "stdout",
          "text": [
            "Epoch 440/500 Loss per sample: 112.4163 Recon Loss: 28.4243 KL Loss: 25.7228\n"
          ]
        },
        {
          "output_type": "stream",
          "name": "stderr",
          "text": []
        },
        {
          "output_type": "stream",
          "name": "stdout",
          "text": [
            "Epoch 441/500 Loss per sample: 112.3682 Recon Loss: 30.4697 KL Loss: 24.2164\n"
          ]
        },
        {
          "output_type": "stream",
          "name": "stderr",
          "text": []
        },
        {
          "output_type": "stream",
          "name": "stdout",
          "text": [
            "Epoch 442/500 Loss per sample: 112.3696 Recon Loss: 30.2215 KL Loss: 24.2561\n"
          ]
        },
        {
          "output_type": "stream",
          "name": "stderr",
          "text": []
        },
        {
          "output_type": "stream",
          "name": "stdout",
          "text": [
            "Epoch 443/500 Loss per sample: 112.3532 Recon Loss: 28.3771 KL Loss: 25.3995\n"
          ]
        },
        {
          "output_type": "stream",
          "name": "stderr",
          "text": []
        },
        {
          "output_type": "stream",
          "name": "stdout",
          "text": [
            "Epoch 444/500 Loss per sample: 112.5169 Recon Loss: 28.2638 KL Loss: 28.7727\n"
          ]
        },
        {
          "output_type": "stream",
          "name": "stderr",
          "text": []
        },
        {
          "output_type": "stream",
          "name": "stdout",
          "text": [
            "Epoch 445/500 Loss per sample: 112.3833 Recon Loss: 29.2481 KL Loss: 30.4542\n"
          ]
        },
        {
          "output_type": "stream",
          "name": "stderr",
          "text": []
        },
        {
          "output_type": "stream",
          "name": "stdout",
          "text": [
            "Epoch 446/500 Loss per sample: 112.1981 Recon Loss: 27.0464 KL Loss: 23.1880\n"
          ]
        },
        {
          "output_type": "stream",
          "name": "stderr",
          "text": []
        },
        {
          "output_type": "stream",
          "name": "stdout",
          "text": [
            "Epoch 447/500 Loss per sample: 112.3989 Recon Loss: 28.1549 KL Loss: 26.3982\n"
          ]
        },
        {
          "output_type": "stream",
          "name": "stderr",
          "text": []
        },
        {
          "output_type": "stream",
          "name": "stdout",
          "text": [
            "Epoch 448/500 Loss per sample: 112.3339 Recon Loss: 27.3611 KL Loss: 30.3787\n"
          ]
        },
        {
          "output_type": "stream",
          "name": "stderr",
          "text": []
        },
        {
          "output_type": "stream",
          "name": "stdout",
          "text": [
            "Epoch 449/500 Loss per sample: 112.3650 Recon Loss: 27.5619 KL Loss: 22.9888\n"
          ]
        },
        {
          "output_type": "stream",
          "name": "stderr",
          "text": []
        },
        {
          "output_type": "stream",
          "name": "stdout",
          "text": [
            "Epoch 450/500 Loss per sample: 112.3396 Recon Loss: 29.9401 KL Loss: 21.9879\n"
          ]
        },
        {
          "output_type": "stream",
          "name": "stderr",
          "text": []
        },
        {
          "output_type": "stream",
          "name": "stdout",
          "text": [
            "Epoch 451/500 Loss per sample: 112.3981 Recon Loss: 30.2735 KL Loss: 22.9079\n"
          ]
        },
        {
          "output_type": "stream",
          "name": "stderr",
          "text": []
        },
        {
          "output_type": "stream",
          "name": "stdout",
          "text": [
            "Epoch 452/500 Loss per sample: 112.3822 Recon Loss: 30.2474 KL Loss: 25.8577\n"
          ]
        },
        {
          "output_type": "stream",
          "name": "stderr",
          "text": []
        },
        {
          "output_type": "stream",
          "name": "stdout",
          "text": [
            "Epoch 453/500 Loss per sample: 112.2478 Recon Loss: 28.9815 KL Loss: 27.0341\n"
          ]
        },
        {
          "output_type": "stream",
          "name": "stderr",
          "text": []
        },
        {
          "output_type": "stream",
          "name": "stdout",
          "text": [
            "Epoch 454/500 Loss per sample: 112.2660 Recon Loss: 28.5683 KL Loss: 25.6495\n"
          ]
        },
        {
          "output_type": "stream",
          "name": "stderr",
          "text": []
        },
        {
          "output_type": "stream",
          "name": "stdout",
          "text": [
            "Epoch 455/500 Loss per sample: 112.2742 Recon Loss: 26.1726 KL Loss: 27.1615\n"
          ]
        },
        {
          "output_type": "stream",
          "name": "stderr",
          "text": []
        },
        {
          "output_type": "stream",
          "name": "stdout",
          "text": [
            "Epoch 456/500 Loss per sample: 112.3362 Recon Loss: 28.4469 KL Loss: 25.8853\n"
          ]
        },
        {
          "output_type": "stream",
          "name": "stderr",
          "text": []
        },
        {
          "output_type": "stream",
          "name": "stdout",
          "text": [
            "Epoch 457/500 Loss per sample: 112.2120 Recon Loss: 28.1333 KL Loss: 25.8713\n"
          ]
        },
        {
          "output_type": "stream",
          "name": "stderr",
          "text": []
        },
        {
          "output_type": "stream",
          "name": "stdout",
          "text": [
            "Epoch 458/500 Loss per sample: 112.2747 Recon Loss: 28.1600 KL Loss: 28.8043\n"
          ]
        },
        {
          "output_type": "stream",
          "name": "stderr",
          "text": []
        },
        {
          "output_type": "stream",
          "name": "stdout",
          "text": [
            "Epoch 459/500 Loss per sample: 112.3044 Recon Loss: 30.7232 KL Loss: 22.1314\n"
          ]
        },
        {
          "output_type": "stream",
          "name": "stderr",
          "text": []
        },
        {
          "output_type": "stream",
          "name": "stdout",
          "text": [
            "Epoch 460/500 Loss per sample: 112.3469 Recon Loss: 29.3714 KL Loss: 24.2504\n"
          ]
        },
        {
          "output_type": "stream",
          "name": "stderr",
          "text": []
        },
        {
          "output_type": "stream",
          "name": "stdout",
          "text": [
            "Epoch 461/500 Loss per sample: 112.1720 Recon Loss: 27.6877 KL Loss: 28.1488\n"
          ]
        },
        {
          "output_type": "stream",
          "name": "stderr",
          "text": []
        },
        {
          "output_type": "stream",
          "name": "stdout",
          "text": [
            "Epoch 462/500 Loss per sample: 112.3183 Recon Loss: 29.4449 KL Loss: 25.5850\n"
          ]
        },
        {
          "output_type": "stream",
          "name": "stderr",
          "text": []
        },
        {
          "output_type": "stream",
          "name": "stdout",
          "text": [
            "Epoch 463/500 Loss per sample: 112.2357 Recon Loss: 28.8571 KL Loss: 27.2951\n"
          ]
        },
        {
          "output_type": "stream",
          "name": "stderr",
          "text": []
        },
        {
          "output_type": "stream",
          "name": "stdout",
          "text": [
            "Epoch 464/500 Loss per sample: 112.1146 Recon Loss: 30.0852 KL Loss: 23.9174\n"
          ]
        },
        {
          "output_type": "stream",
          "name": "stderr",
          "text": []
        },
        {
          "output_type": "stream",
          "name": "stdout",
          "text": [
            "Epoch 465/500 Loss per sample: 112.2998 Recon Loss: 29.4390 KL Loss: 25.8638\n"
          ]
        },
        {
          "output_type": "stream",
          "name": "stderr",
          "text": []
        },
        {
          "output_type": "stream",
          "name": "stdout",
          "text": [
            "Epoch 466/500 Loss per sample: 112.2183 Recon Loss: 25.7005 KL Loss: 30.8117\n"
          ]
        },
        {
          "output_type": "stream",
          "name": "stderr",
          "text": []
        },
        {
          "output_type": "stream",
          "name": "stdout",
          "text": [
            "Epoch 467/500 Loss per sample: 112.2916 Recon Loss: 29.2870 KL Loss: 27.8189\n"
          ]
        },
        {
          "output_type": "stream",
          "name": "stderr",
          "text": []
        },
        {
          "output_type": "stream",
          "name": "stdout",
          "text": [
            "Epoch 468/500 Loss per sample: 112.2060 Recon Loss: 27.7966 KL Loss: 25.6956\n"
          ]
        },
        {
          "output_type": "stream",
          "name": "stderr",
          "text": []
        },
        {
          "output_type": "stream",
          "name": "stdout",
          "text": [
            "Epoch 469/500 Loss per sample: 112.2781 Recon Loss: 29.0061 KL Loss: 25.5935\n"
          ]
        },
        {
          "output_type": "stream",
          "name": "stderr",
          "text": []
        },
        {
          "output_type": "stream",
          "name": "stdout",
          "text": [
            "Epoch 470/500 Loss per sample: 112.2179 Recon Loss: 30.3587 KL Loss: 26.7975\n"
          ]
        },
        {
          "output_type": "stream",
          "name": "stderr",
          "text": []
        },
        {
          "output_type": "stream",
          "name": "stdout",
          "text": [
            "Epoch 471/500 Loss per sample: 112.3109 Recon Loss: 28.8485 KL Loss: 30.3619\n"
          ]
        },
        {
          "output_type": "stream",
          "name": "stderr",
          "text": []
        },
        {
          "output_type": "stream",
          "name": "stdout",
          "text": [
            "Epoch 472/500 Loss per sample: 112.2375 Recon Loss: 29.5438 KL Loss: 25.7883\n"
          ]
        },
        {
          "output_type": "stream",
          "name": "stderr",
          "text": []
        },
        {
          "output_type": "stream",
          "name": "stdout",
          "text": [
            "Epoch 473/500 Loss per sample: 112.2618 Recon Loss: 29.0222 KL Loss: 26.8443\n"
          ]
        },
        {
          "output_type": "stream",
          "name": "stderr",
          "text": []
        },
        {
          "output_type": "stream",
          "name": "stdout",
          "text": [
            "Epoch 474/500 Loss per sample: 112.2089 Recon Loss: 26.8159 KL Loss: 30.4294\n"
          ]
        },
        {
          "output_type": "stream",
          "name": "stderr",
          "text": []
        },
        {
          "output_type": "stream",
          "name": "stdout",
          "text": [
            "Epoch 475/500 Loss per sample: 112.1894 Recon Loss: 27.6583 KL Loss: 29.9382\n"
          ]
        },
        {
          "output_type": "stream",
          "name": "stderr",
          "text": []
        },
        {
          "output_type": "stream",
          "name": "stdout",
          "text": [
            "Epoch 476/500 Loss per sample: 112.2396 Recon Loss: 29.4219 KL Loss: 26.7924\n"
          ]
        },
        {
          "output_type": "stream",
          "name": "stderr",
          "text": []
        },
        {
          "output_type": "stream",
          "name": "stdout",
          "text": [
            "Epoch 477/500 Loss per sample: 112.2758 Recon Loss: 28.7115 KL Loss: 27.9983\n"
          ]
        },
        {
          "output_type": "stream",
          "name": "stderr",
          "text": []
        },
        {
          "output_type": "stream",
          "name": "stdout",
          "text": [
            "Epoch 478/500 Loss per sample: 112.0636 Recon Loss: 27.7917 KL Loss: 26.7836\n"
          ]
        },
        {
          "output_type": "stream",
          "name": "stderr",
          "text": []
        },
        {
          "output_type": "stream",
          "name": "stdout",
          "text": [
            "Epoch 479/500 Loss per sample: 112.1899 Recon Loss: 30.3408 KL Loss: 26.0368\n"
          ]
        },
        {
          "output_type": "stream",
          "name": "stderr",
          "text": []
        },
        {
          "output_type": "stream",
          "name": "stdout",
          "text": [
            "Epoch 480/500 Loss per sample: 112.1266 Recon Loss: 29.6839 KL Loss: 27.2583\n"
          ]
        },
        {
          "output_type": "stream",
          "name": "stderr",
          "text": []
        },
        {
          "output_type": "stream",
          "name": "stdout",
          "text": [
            "Epoch 481/500 Loss per sample: 112.0717 Recon Loss: 28.4742 KL Loss: 29.5500\n"
          ]
        },
        {
          "output_type": "stream",
          "name": "stderr",
          "text": []
        },
        {
          "output_type": "stream",
          "name": "stdout",
          "text": [
            "Epoch 482/500 Loss per sample: 112.1170 Recon Loss: 28.0131 KL Loss: 26.3246\n"
          ]
        },
        {
          "output_type": "stream",
          "name": "stderr",
          "text": []
        },
        {
          "output_type": "stream",
          "name": "stdout",
          "text": [
            "Epoch 483/500 Loss per sample: 112.3141 Recon Loss: 29.4286 KL Loss: 27.8082\n"
          ]
        },
        {
          "output_type": "stream",
          "name": "stderr",
          "text": []
        },
        {
          "output_type": "stream",
          "name": "stdout",
          "text": [
            "Epoch 484/500 Loss per sample: 112.1121 Recon Loss: 28.9601 KL Loss: 25.6395\n"
          ]
        },
        {
          "output_type": "stream",
          "name": "stderr",
          "text": []
        },
        {
          "output_type": "stream",
          "name": "stdout",
          "text": [
            "Epoch 485/500 Loss per sample: 112.1036 Recon Loss: 28.4475 KL Loss: 26.6916\n"
          ]
        },
        {
          "output_type": "stream",
          "name": "stderr",
          "text": []
        },
        {
          "output_type": "stream",
          "name": "stdout",
          "text": [
            "Epoch 486/500 Loss per sample: 112.0805 Recon Loss: 27.4523 KL Loss: 24.6000\n"
          ]
        },
        {
          "output_type": "stream",
          "name": "stderr",
          "text": []
        },
        {
          "output_type": "stream",
          "name": "stdout",
          "text": [
            "Epoch 487/500 Loss per sample: 112.0644 Recon Loss: 29.7577 KL Loss: 23.7739\n"
          ]
        },
        {
          "output_type": "stream",
          "name": "stderr",
          "text": []
        },
        {
          "output_type": "stream",
          "name": "stdout",
          "text": [
            "Epoch 488/500 Loss per sample: 112.1534 Recon Loss: 28.9757 KL Loss: 26.1295\n"
          ]
        },
        {
          "output_type": "stream",
          "name": "stderr",
          "text": []
        },
        {
          "output_type": "stream",
          "name": "stdout",
          "text": [
            "Epoch 489/500 Loss per sample: 112.2638 Recon Loss: 28.4877 KL Loss: 25.7709\n"
          ]
        },
        {
          "output_type": "stream",
          "name": "stderr",
          "text": []
        },
        {
          "output_type": "stream",
          "name": "stdout",
          "text": [
            "Epoch 490/500 Loss per sample: 112.0511 Recon Loss: 27.2691 KL Loss: 28.5094\n"
          ]
        },
        {
          "output_type": "stream",
          "name": "stderr",
          "text": []
        },
        {
          "output_type": "stream",
          "name": "stdout",
          "text": [
            "Epoch 491/500 Loss per sample: 112.1448 Recon Loss: 28.5185 KL Loss: 22.5430\n"
          ]
        },
        {
          "output_type": "stream",
          "name": "stderr",
          "text": []
        },
        {
          "output_type": "stream",
          "name": "stdout",
          "text": [
            "Epoch 492/500 Loss per sample: 112.1072 Recon Loss: 27.9175 KL Loss: 28.9780\n"
          ]
        },
        {
          "output_type": "stream",
          "name": "stderr",
          "text": []
        },
        {
          "output_type": "stream",
          "name": "stdout",
          "text": [
            "Epoch 493/500 Loss per sample: 112.0753 Recon Loss: 27.3290 KL Loss: 26.8592\n"
          ]
        },
        {
          "output_type": "stream",
          "name": "stderr",
          "text": []
        },
        {
          "output_type": "stream",
          "name": "stdout",
          "text": [
            "Epoch 494/500 Loss per sample: 112.1692 Recon Loss: 30.3509 KL Loss: 25.0194\n"
          ]
        },
        {
          "output_type": "stream",
          "name": "stderr",
          "text": []
        },
        {
          "output_type": "stream",
          "name": "stdout",
          "text": [
            "Epoch 495/500 Loss per sample: 111.9704 Recon Loss: 27.6112 KL Loss: 22.9946\n"
          ]
        },
        {
          "output_type": "stream",
          "name": "stderr",
          "text": []
        },
        {
          "output_type": "stream",
          "name": "stdout",
          "text": [
            "Epoch 496/500 Loss per sample: 112.0704 Recon Loss: 29.2505 KL Loss: 27.6254\n"
          ]
        },
        {
          "output_type": "stream",
          "name": "stderr",
          "text": []
        },
        {
          "output_type": "stream",
          "name": "stdout",
          "text": [
            "Epoch 497/500 Loss per sample: 111.9867 Recon Loss: 31.9595 KL Loss: 25.0723\n"
          ]
        },
        {
          "output_type": "stream",
          "name": "stderr",
          "text": []
        },
        {
          "output_type": "stream",
          "name": "stdout",
          "text": [
            "Epoch 498/500 Loss per sample: 112.2009 Recon Loss: 28.9322 KL Loss: 27.6721\n"
          ]
        },
        {
          "output_type": "stream",
          "name": "stderr",
          "text": []
        },
        {
          "output_type": "stream",
          "name": "stdout",
          "text": [
            "Epoch 499/500 Loss per sample: 112.0652 Recon Loss: 29.6062 KL Loss: 24.9987\n"
          ]
        },
        {
          "output_type": "stream",
          "name": "stderr",
          "text": [
            "                                                                             "
          ]
        },
        {
          "output_type": "stream",
          "name": "stdout",
          "text": [
            "Epoch 500/500 Loss per sample: 112.0475 Recon Loss: 29.0023 KL Loss: 24.8350\n",
            "Training log saved to logs/training_log_20250323_042506.txt\n"
          ]
        },
        {
          "output_type": "stream",
          "name": "stderr",
          "text": [
            "\r"
          ]
        }
      ]
    },
    {
      "cell_type": "markdown",
      "source": [
        "### Test\n",
        "Trực quan hóa ảnh gốc và ảnh tái tạo"
      ],
      "metadata": {
        "id": "4fWIYYWwFmZU"
      }
    },
    {
      "cell_type": "code",
      "source": [
        "# After training, visualize the reconstruction on validation images\n",
        "model.eval()\n",
        "with torch.no_grad():\n",
        "    data_iter = iter(val_loader)\n",
        "    images, _ = next(data_iter)\n",
        "    images = images.to(device)\n",
        "    recon_images, _, _ = model(images)"
      ],
      "metadata": {
        "id": "9ueV2vmfEugK"
      },
      "execution_count": 10,
      "outputs": []
    },
    {
      "cell_type": "code",
      "source": [
        "# Plot original and reconstructed images side by side\n",
        "n = 10 # number of images to display\n",
        "plt.figure(figsize=(20, 4))\n",
        "for i in range(n):\n",
        "    # Original image: (C,H,W)-> (H,W,C)\n",
        "    orig = images[i].cpu().permute(1, 2, 0).numpy()\n",
        "    recon = recon_images[i].cpu().permute(1, 2, 0).numpy()\n",
        "\n",
        "    ax = plt.subplot(2, n, i + 1)\n",
        "    plt.imshow(orig)\n",
        "    plt.title(\"Original\")\n",
        "    plt.axis('off')\n",
        "\n",
        "    ax = plt.subplot(2, n, i + 1 + n)\n",
        "    plt.imshow(recon)\n",
        "    plt.title(\"Reconstructed\")\n",
        "    plt.axis('off')\n",
        "\n",
        "plt.show()"
      ],
      "metadata": {
        "colab": {
          "base_uri": "https://localhost:8080/",
          "height": 155
        },
        "id": "7o3Ww02hFY_C",
        "outputId": "54235303-7b37-4343-aae3-6cca36daf53a"
      },
      "execution_count": 11,
      "outputs": [
        {
          "output_type": "display_data",
          "data": {
            "text/plain": [
              "<Figure size 2000x400 with 20 Axes>"
            ],
            "image/png": "[encoded data removed]"
          },
          "metadata": {}
        }
      ]
    }
  ]
}